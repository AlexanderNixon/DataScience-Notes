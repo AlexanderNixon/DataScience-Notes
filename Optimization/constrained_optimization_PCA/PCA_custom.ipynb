{
 "cells": [
  {
   "cell_type": "markdown",
   "metadata": {},
   "source": [
    "Àlex Escolà Nixon\n",
    "\n",
    "## Optimization: Lab 5"
   ]
  },
  {
   "cell_type": "markdown",
   "metadata": {},
   "source": [
    "- ### An exercise: PCA analysis"
   ]
  },
  {
   "cell_type": "markdown",
   "metadata": {},
   "source": [
    "The principal component analysis is defined as the following maximization problem:\n",
    "\n",
    "$\\underset{w}{max}$ $w^tAw$ subject to $w^t w =1$"
   ]
  },
  {
   "cell_type": "markdown",
   "metadata": {},
   "source": [
    "Being A the covariance matrix of the data. Here the covariance matrix already defined in the Machine Learning notebook s considered:"
   ]
  },
  {
   "cell_type": "code",
   "execution_count": 1,
   "metadata": {
    "collapsed": false
   },
   "outputs": [],
   "source": [
    "import numpy as np\n",
    "from numpy.linalg import norm\n",
    "\n",
    "m1 = [4.,-1.]\n",
    "s1 = [[1,0.9],[0.9,1]]\n",
    "c1 = np.random.multivariate_normal(m1,s1,100)\n",
    "A=np.cov(c1.T)"
   ]
  },
  {
   "cell_type": "markdown",
   "metadata": {},
   "source": [
    "Where the Lagrangian is directly formulated as:\n",
    "\\begin{equation}\n",
    "L\\left (w,\\lambda\\right) = w^tAw -\\lambda\\left (w^tw -1\\right)\n",
    "\\end{equation}\n",
    "\n",
    "The maximization problem can be rewritten as a minimization problem by changing the signs of the terms in the Lagrangian, this is: \n",
    "\n",
    "\\begin{equation}\n",
    "L\\left (w,\\lambda\\right) = -w^tAw +\\lambda\\left (w^tw -1\\right)\n",
    "\\end{equation}"
   ]
  },
  {
   "cell_type": "markdown",
   "metadata": {},
   "source": [
    "In order to find the optimal w that minimizes the above problem, where going to use the projected gradient descent method. The key point of this method is that at each of the steps we move in the direction of the negative gradient, as in the ordinary gradient descent case, and then project the points we find onto the feasible set. This reduces the space of search only on the feasible set and guarantees a much faster convergence."
   ]
  },
  {
   "cell_type": "markdown",
   "metadata": {},
   "source": [
    "In order to calculate the projection of w onto the feasible set at each step, we only have to normalize the vector w, given that the constraint is implying that the euclidean norm of the vector has to be 1. This can simply be done by dividing by the euclidean norm of w at each step:"
   ]
  },
  {
   "cell_type": "markdown",
   "metadata": {},
   "source": [
    "\\begin{equation}\n",
    "\\hat{w}^k=\\frac{w^k}{\\left \\| w^k \\right \\|}\n",
    "\\end{equation}"
   ]
  },
  {
   "cell_type": "markdown",
   "metadata": {},
   "source": [
    "The gradient of the Lagrangian, as well as an estimate of $\\lambda$ will have to be calculated for the algorithm:"
   ]
  },
  {
   "cell_type": "markdown",
   "metadata": {},
   "source": [
    "\\begin{equation}\n",
    "\\nabla _w L(w,\\lambda) \n",
    "\\end{equation}\n",
    "\n",
    "\\begin{equation}\n",
    "\\nabla _w L(w,\\lambda)  = \\nabla _w \\left (-w^tAw + \\lambda \\left ( w^tw-1 \\right)\\right) = -w^tA^t-w^tA + \\lambda \\left ( w^t+w^t \\right)\n",
    "\\end{equation}\n",
    "\n"
   ]
  },
  {
   "cell_type": "markdown",
   "metadata": {},
   "source": [
    "Where, taking into account that A is a square matrix, the above equation can be reduced to:\n",
    "\n",
    "\\begin{equation}\n",
    "\\nabla _w L(w,\\lambda)  = -2Aw + 2w^t \\lambda\n",
    "\\end{equation}"
   ]
  },
  {
   "cell_type": "markdown",
   "metadata": {},
   "source": [
    "An estimate of $\\lambda$ can be computed by minimizing $\\left \\| \\nabla L(w^k) \\right \\|^2$. This can be done by derivating respect to $\\lambda$ and equating to 0:"
   ]
  },
  {
   "cell_type": "markdown",
   "metadata": {},
   "source": [
    "\\begin{equation}\n",
    "\\frac{\\partial }{\\partial \\lambda} \\left \\| \\nabla L(x) \\right \\|^2=0\n",
    "\\end{equation}\n",
    "Where, by doing so we obtain:"
   ]
  },
  {
   "cell_type": "markdown",
   "metadata": {},
   "source": [
    "\\begin{equation}\n",
    "\\frac{\\partial }{\\partial \\lambda} \\left \\| -2Aw + 2w^t\\lambda \\right \\|^2 = 0\n",
    "\\end{equation}\n",
    "\\begin{equation}\n",
    "\\frac{\\partial }{\\partial \\lambda} \\left ( 4A^2 \\left \\| w \\right \\|  ^2 + 4\\lambda ^2 \\left \\| w^t \\right \\| ^{2}-8\\lambda Aw w^t \\right) =0\n",
    "\\end{equation}\n",
    "\\begin{equation}\n",
    "8\\lambda \\left \\| w^t \\right \\| ^{2} - 8Aw w^{t}=0\n",
    "\\end{equation}"
   ]
  },
  {
   "cell_type": "markdown",
   "metadata": {},
   "source": [
    "And we can solve for $\\lambda$ obtaining:\n",
    "\\begin{equation}\n",
    "\\lambda= \\frac{w^{t}Aw}{\\left \\| w^t \\right \\| ^{2}}\n",
    "\\end{equation}"
   ]
  },
  {
   "cell_type": "code",
   "execution_count": 11,
   "metadata": {
    "collapsed": false,
    "scrolled": true
   },
   "outputs": [
    {
     "name": "stdout",
     "output_type": "stream",
     "text": [
      "Initial values\n",
      "  Function value = -2.02034141363  w = [ 0.5547002   0.83205029]\n",
      "Final values\n",
      "  Number of iterations 340\n",
      "  Function value  -2.12727726535\n",
      "  Obtained values are w = [ 0.73039086  0.68302942]   lambda = 2.12727726535\n"
     ]
    }
   ],
   "source": [
    "import numpy as np\n",
    "\n",
    "# Tolerance\n",
    "tol=1e-08\n",
    "\n",
    "# Initial alpha value (line search)\n",
    "alpha=1.0\n",
    "\n",
    "# Initial values. \n",
    "w=np.array([2,3])\n",
    "\n",
    "# Normalization of the w vector to project onto the feasible set\n",
    "den = norm(w,2)\n",
    "w = w/den\n",
    "\n",
    "# Given current values of  (x,y), compute the value of lambda\n",
    "# that minimizes the modulus of the gradient of the Lagrangian\n",
    "\n",
    "num=A.dot(w).dot(w.T)\n",
    "den=norm(w.T,2)**2\n",
    "lam=num/den\n",
    "\n",
    "# Compute Lagrangian. Points x and y should be over the ellipse\n",
    "f= -w.T.dot(A.dot(w)) + lam * (w.T.dot(w)-1)\n",
    "cont=0\n",
    "\n",
    "print \"Initial values\"\n",
    "print \"  Function value =\", f, \" w =\", w\n",
    "\n",
    "while ((alpha > tol) and (cont < 100000)):\n",
    "    cont=cont+1\n",
    "    \n",
    "    # Gradient of the Lagrangian\n",
    "    grw = -2*A.dot(w) + 2*lam*w\n",
    "    \n",
    "    # Used to know if we finished line search\n",
    "    finished = 0\n",
    "    \n",
    "    while ((finished == 0) and (alpha > tol)):\n",
    "        # Update\n",
    "        aux_w=w-alpha*grw\n",
    "    \n",
    "        # Normalization of the w vector to project onto the feasible set\n",
    "        den = norm(aux_w,2)\n",
    "        aux_w = aux_w/den\n",
    "    \n",
    "        # Compute new value of the Lagrangian. \n",
    "        \n",
    "        num=A.dot(aux_w).dot(aux_w.T)\n",
    "        den=norm(aux_w.T,2)**2\n",
    "        aux_lam=num/den\n",
    "        \n",
    "        aux_f = -aux_w.T.dot(A.dot(aux_w)) + aux_lam * (aux_w.T.dot(aux_w)-1)\n",
    "        \n",
    "        # Check if this is a descent\n",
    "        if aux_f<f:\n",
    "            w=aux_w\n",
    "            lam=aux_lam\n",
    "            f=aux_f\n",
    "            alpha=1.0\n",
    "            finished = 1\n",
    "        else:\n",
    "            alpha=alpha/2.0\n",
    "\n",
    "print \"Final values\"\n",
    "print \"  Number of iterations\", cont\n",
    "print \"  Function value \", f\n",
    "print \"  Obtained values are w =\", w, \"  lambda =\", lam"
   ]
  },
  {
   "cell_type": "markdown",
   "metadata": {},
   "source": [
    "We have therefore found a solution for w. We can ascertain that the result is correct by checking the following equality, derived from the analytical solution of the PCA problem"
   ]
  },
  {
   "cell_type": "markdown",
   "metadata": {},
   "source": [
    "\\begin{equation}\n",
    "\\frac{Aw}{w^tAw}=\\frac{w}{w^t w}\n",
    "\\end{equation}"
   ]
  },
  {
   "cell_type": "markdown",
   "metadata": {},
   "source": [
    "Which is done with the following code:"
   ]
  },
  {
   "cell_type": "code",
   "execution_count": 12,
   "metadata": {
    "collapsed": false
   },
   "outputs": [
    {
     "name": "stdout",
     "output_type": "stream",
     "text": [
      "Left term: [ 0.73039086  0.68302942]\n",
      "Right term: [ 0.73039086  0.68302942]\n"
     ]
    }
   ],
   "source": [
    "num=A.dot(w)\n",
    "den=w.T.dot(A.dot(w))\n",
    "print \"Left term:\", (num.dot(1/den))\n",
    "num=w\n",
    "den=w.T.dot(w)\n",
    "print \"Right term:\",(num.dot(1/den))"
   ]
  },
  {
   "cell_type": "markdown",
   "metadata": {},
   "source": [
    "As it can be see the equality is satisfied. This means that indeed this vector w corresponds to the largest eigenvalue. Hereunder the same code as in the PCA analysis Machine Learning lesson is used, and in the right hand side figure the vector w is used instead of the eigenvectors corresponding to the largest eigenvalues: "
   ]
  },
  {
   "cell_type": "code",
   "execution_count": 209,
   "metadata": {
    "collapsed": true
   },
   "outputs": [],
   "source": [
    "import numpy as np\n",
    "import matplotlib.pyplot as plt\n",
    "%matplotlib inline"
   ]
  },
  {
   "cell_type": "code",
   "execution_count": 262,
   "metadata": {
    "collapsed": false
   },
   "outputs": [
    {
     "data": {
      "text/plain": [
       "<matplotlib.patches.FancyArrow at 0x116aa5a10>"
      ]
     },
     "execution_count": 262,
     "metadata": {},
     "output_type": "execute_result"
    },
    {
     "data": {
      "image/png": "[encoded data removed]",
      "text/plain": [
       "<matplotlib.figure.Figure at 0x112e33890>"
      ]
     },
     "metadata": {},
     "output_type": "display_data"
    }
   ],
   "source": [
    "f, (ax1, ax2) = plt.subplots(1, 2, sharey=True)\n",
    "vaps,veps = np.linalg.eig(np.cov(c1.T)) \n",
    "idx = np.argmax(vaps)\n",
    "ax1.plot(c1[:,0],c1[:,1],'r.')\n",
    "ax1.set_title('Analytical solution')\n",
    "f.set_figheight(5)\n",
    "f.set_figwidth(10)\n",
    "ax1.arrow(np.mean(c1[:,0]),np.mean(c1[:,1]),\n",
    "          vaps[idx]*veps[0,idx],vaps[idx]*veps[1,idx],\n",
    "          linewidth=1.5,head_width=0.2,color='blue')\n",
    "\n",
    "ax2.plot(c1[:,0],c1[:,1],'r.')\n",
    "ax2.set_title('Projected Gradient descent solution')\n",
    "ax2.arrow(np.mean(c1[:,0]),np.mean(c1[:,1]),\n",
    "          vaps[idx]*w[0],vaps[idx]*w[1],\n",
    "          linewidth=1.5,head_width=0.2,color='blue')\n",
    "\n"
   ]
  }
 ],
 "metadata": {
  "anaconda-cloud": {},
  "kernelspec": {
   "display_name": "Python [default]",
   "language": "python",
   "name": "python2"
  },
  "language_info": {
   "codemirror_mode": {
    "name": "ipython",
    "version": 2
   },
   "file_extension": ".py",
   "mimetype": "text/x-python",
   "name": "python",
   "nbconvert_exporter": "python",
   "pygments_lexer": "ipython2",
   "version": "2.7.12"
  }
 },
 "nbformat": 4,
 "nbformat_minor": 1
}
