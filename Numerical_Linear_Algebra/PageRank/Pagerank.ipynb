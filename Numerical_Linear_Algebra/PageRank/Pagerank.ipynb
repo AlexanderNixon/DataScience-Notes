{
 "cells": [
  {
   "cell_type": "code",
   "execution_count": 25,
   "metadata": {
    "collapsed": false
   },
   "outputs": [],
   "source": [
    "import time\n",
    "import numpy as np\n",
    "import pandas as pd\n",
    "from numpy.linalg import eig, norm, solve\n",
    "from scipy.sparse.linalg import spsolve\n",
    "from scipy.sparse import identity, diags, csr_matrix\n",
    "from operator import itemgetter"
   ]
  },
  {
   "cell_type": "markdown",
   "metadata": {},
   "source": [
    "##### Task 1: Solve the exercises 1,4 and 10 of Ref. [1]."
   ]
  },
  {
   "cell_type": "markdown",
   "metadata": {},
   "source": [
    "- ##### Exercise 1. Suppose the people who own page 3 in the web of Figure 1 are infuriated by the fact that its importance score, computed using formula (1), is lower than the score of page 1. In an attempt to boost page 3’s score, they create a page 5 that links to page 3; page 3 also links to page 5. Does this boost page 3’s score above that of page 1?"
   ]
  },
  {
   "cell_type": "markdown",
   "metadata": {},
   "source": [
    "\\begin{equation}\n",
    "AX=\\lambda X \\rightarrow \\left ( A-\\lambda I_n \\right )X=0\n",
    "\\end{equation}"
   ]
  },
  {
   "cell_type": "markdown",
   "metadata": {},
   "source": [
    "The previous expression translates into solving the following system, where, given that we are interested in the eigenvector corresponding to the eigenvalue of 1, we substract 1 from the diagonal and equate to zero to solve through Gaussian elimination."
   ]
  },
  {
   "cell_type": "markdown",
   "metadata": {},
   "source": [
    "\\begin{equation}\n",
    "\\left(\n",
    "\\begin{array}{ccccc|c}\n",
    "-1&0&1/2&1/2&0&0 \\\\\n",
    "1/3&-1&0&0&0&0 \\\\\n",
    "1/3&1/2&-1&1/2&1&0\\\\\n",
    "1/3&1/2&0&-1&0&0\\\\\n",
    "0&0&1/2&0&-1&0\n",
    "\\end{array}\n",
    "\\right)\n",
    "\\end{equation}\n",
    "\n"
   ]
  },
  {
   "cell_type": "markdown",
   "metadata": {},
   "source": [
    "We first begin with changing of sign the first row and performing the following operations:\n",
    "\n",
    "\\begin{equation}\n",
    "\\left\\{\\begin{matrix}\n",
    "R2=R2-\\frac{1}{3}R1\\\\ \n",
    "R3=R3-\\frac{1}{3}R1\\\\ \n",
    "R4=R4-\\frac{1}{3}R1\n",
    "\\end{matrix}\\right.\n",
    "\\end{equation}\n",
    "\n"
   ]
  },
  {
   "cell_type": "markdown",
   "metadata": {},
   "source": [
    "\\begin{equation}\n",
    "\\left(\n",
    "\\begin{array}{ccccc|c}\n",
    "1&0&-1/2&-1/2&0&0 \\\\\n",
    "1/3&-1&0&0&0&0 \\\\\n",
    "1/3&1/2&-1&1/2&1&0\\\\\n",
    "1/3&1/2&0&-1&0&0\\\\\n",
    "0&0&1/2&0&-1&0\n",
    "\\end{array}\n",
    "\\right)\n",
    "\\rightarrow\n",
    "\\left(\n",
    "\\begin{array}{ccccc|c}\n",
    "-1&0&-1/2&-1/2&0&0 \\\\\n",
    "0&-1&1/6&1/6&0&0 \\\\\n",
    "0&1/2&-5/6&2/3&1&0\\\\\n",
    "0&1/2&1/6&-5/6&0&0\\\\\n",
    "0&0&1/2&0&-1&0\n",
    "\\end{array}\n",
    "\\right)\n",
    "\\end{equation}"
   ]
  },
  {
   "cell_type": "markdown",
   "metadata": {},
   "source": [
    "We now focus on the second column, where changing the second equation of sign and using the second pivot we can reduce the system to:\n",
    "\n",
    "\\begin{equation}\n",
    "\\left\\{\\begin{matrix}\n",
    "R3=R3-\\frac{1}{2}R2\\\\ \n",
    "R4=R4-\\frac{1}{2}R2\n",
    "\\end{matrix}\\right.\n",
    "\\end{equation}"
   ]
  },
  {
   "cell_type": "markdown",
   "metadata": {},
   "source": [
    "\\begin{equation}\n",
    "\\left(\n",
    "\\begin{array}{ccccc|c}\n",
    "-1&0&-1/2&-1/2&0&0 \\\\\n",
    "0&1&-1/6&-1/6&0&0 \\\\\n",
    "0&0&-3/4&3/4&1&0\\\\\n",
    "0&0&1/4&-3/4&0&0\\\\\n",
    "0&0&1/2&0&-1&0\n",
    "\\end{array}\n",
    "\\right)\n",
    "\\rightarrow\n",
    "\\left(\n",
    "\\begin{array}{ccccc|c}\n",
    "-1&0&-1/2&-1/2&0&0 \\\\\n",
    "0&1&-1/6&-1/6&0&0 \\\\\n",
    "0&0&1&-1&-4/3&0\\\\\n",
    "0&0&1/4&-3/4&0&0\\\\\n",
    "0&0&1/2&0&-1&0\n",
    "\\end{array}\n",
    "\\right)\n",
    "\\end{equation}"
   ]
  },
  {
   "cell_type": "markdown",
   "metadata": {},
   "source": [
    "We now focus on the second column, where changing the third equation of sign and using the third pivot we can reduce the system to:\n",
    "\n",
    "\\begin{equation}\n",
    "\\left\\{\\begin{matrix}\n",
    "R1=R1+\\frac{1}{2}R3\\\\ \n",
    "R2=R2+\\frac{1}{6}R3\\\\\n",
    "R4=R4-\\frac{1}{4}R3\\\\\n",
    "R5=R5-\\frac{1}{2}R3\n",
    "\\end{matrix}\\right.\n",
    "\\end{equation}"
   ]
  },
  {
   "cell_type": "markdown",
   "metadata": {},
   "source": [
    "\\begin{equation}\n",
    "\\left(\n",
    "\\begin{array}{ccccc|c}\n",
    "-1&0&0&-1&-2/3&0 \\\\\n",
    "0&1&0&-1/3&-2/9&0 \\\\\n",
    "0&0&1&-1&-4/3&0\\\\\n",
    "0&0&0&-1/2&1/3&0\\\\\n",
    "0&0&0&1/2&-1/3&0\n",
    "\\end{array}\n",
    "\\right)\n",
    "\\rightarrow\n",
    "\\left(\n",
    "\\begin{array}{ccccc|c}\n",
    "-1&0&0&-1&-2/3&0 \\\\\n",
    "0&1&0&-1/3&-2/9&0 \\\\\n",
    "0&0&1&-1&-4/3&0\\\\\n",
    "0&0&0&1&-2/3&0\\\\\n",
    "0&0&0&1/2&-1/3&0\n",
    "\\end{array}\n",
    "\\right)\n",
    "\\end{equation}"
   ]
  },
  {
   "cell_type": "markdown",
   "metadata": {},
   "source": [
    "We now focus on the second column, where using the forth pivot we can reduce the system to:\n",
    "\n",
    "\\begin{equation}\n",
    "\\left\\{\\begin{matrix}\n",
    "R1=R1+R4\\\\ \n",
    "R2=R2+\\frac{1}{3}R4\\\\\n",
    "R3=R3+R4\\\\\n",
    "R5=R5-\\frac{1}{2}R4\n",
    "\\end{matrix}\\right.\n",
    "\\end{equation}"
   ]
  },
  {
   "cell_type": "markdown",
   "metadata": {},
   "source": [
    "\\begin{equation}\n",
    "\\left(\n",
    "\\begin{array}{ccccc|c}\n",
    "-1&0&0&0&-4/3&0 \\\\\n",
    "0&1&0&0&-4/9&0 \\\\\n",
    "0&0&1&0&-2&0\\\\\n",
    "0&0&0&1&-2/3&0\\\\\n",
    "0&0&0&0&0&0\n",
    "\\end{array}\n",
    "\\right)\n",
    "\\end{equation}"
   ]
  },
  {
   "cell_type": "markdown",
   "metadata": {},
   "source": [
    "Now rewritting the equations from the resulting system, we can establish the following equalities"
   ]
  },
  {
   "cell_type": "markdown",
   "metadata": {},
   "source": [
    "\\begin{equation}\n",
    "\\left\\{\\begin{matrix}\n",
    "x_1=\\frac{4}{3}\\\\ \n",
    "x_2=\\frac{4}{9}\\\\ \n",
    "x_3=2\\\\\n",
    "x_4=\\frac{2}{3}\\\\  \n",
    "\\end{matrix}\\right.\n",
    "\\end{equation}\n",
    "\n"
   ]
  },
  {
   "cell_type": "markdown",
   "metadata": {},
   "source": [
    "The corresponding eigenvector is finally obtained by imposing that the norm 1 of the vector of scores is 1, this is:"
   ]
  },
  {
   "cell_type": "markdown",
   "metadata": {},
   "source": [
    "\\begin{equation}\n",
    "\\left \\| x \\right \\|_1=\\sum_{i=1}^{n}x_i=1\n",
    "\\end{equation}\n",
    "\n"
   ]
  },
  {
   "cell_type": "markdown",
   "metadata": {},
   "source": [
    "This can be done by dividing alla element by the norm 1 of x, obtaining finally the scores as:"
   ]
  },
  {
   "cell_type": "markdown",
   "metadata": {},
   "source": [
    "\\begin{equation}\n",
    "\\frac{x}{\\left \\| x \\right \\|_1}=\\left\\{\\begin{matrix}\n",
    "x_1=\\frac{\\frac{4}{3}}{5.44}=0.244\\\\ \n",
    "x_2=\\frac{\\frac{4}{9}}{5.44}=0.081\\\\ \n",
    "x_3=\\frac{2}{5.44}=0.367\\\\\n",
    "x_4=\\frac{\\frac{2}{3}}{5.44}=0.122\\\\  \n",
    "x_5=\\frac{1}{5.44}=0.183\n",
    "\\end{matrix}\\right.\n",
    "\\end{equation}"
   ]
  },
  {
   "cell_type": "markdown",
   "metadata": {},
   "source": [
    "The obtained result can rapidly be verified by solving the linear system ( i.e. the code forstrategy 1 ):"
   ]
  },
  {
   "cell_type": "code",
   "execution_count": 7,
   "metadata": {
    "collapsed": false
   },
   "outputs": [
    {
     "name": "stdout",
     "output_type": "stream",
     "text": [
      "[[ 0.          0.          0.5         0.5         0.        ]\n",
      " [ 0.33333333  0.          0.          0.          0.        ]\n",
      " [ 0.33333333  0.5         0.          0.5         1.        ]\n",
      " [ 0.33333333  0.5         0.          0.          0.        ]\n",
      " [ 0.          0.          0.5         0.          0.        ]]\n"
     ]
    }
   ],
   "source": [
    "A_1=np.array([[0,0,1.0/2,1.0/2,0],[1.0/3,0,0,0,0],[1.0/3,1.0/2,0,1.0/2,1],\n",
    "              [1.0/3,1.0/2,0,0,0],[0,0,1.0/2,0,0]])\n",
    "print A_1"
   ]
  },
  {
   "cell_type": "code",
   "execution_count": 266,
   "metadata": {
    "collapsed": false
   },
   "outputs": [
    {
     "data": {
      "text/plain": [
       "array([ 0.24484871,  0.08173462,  0.36722615,  0.12256106,  0.18362946])"
      ]
     },
     "execution_count": 266,
     "metadata": {},
     "output_type": "execute_result"
    }
   ],
   "source": [
    "m=1e-3\n",
    "n=5\n",
    "B=identity(n)-(1-m)*A_1\n",
    "e=np.ones(n)\n",
    "x=spsolve(B,e)\n",
    "x/sum(x)"
   ]
  },
  {
   "cell_type": "markdown",
   "metadata": {},
   "source": [
    "As it can be seen the same result hasbeen obtained with only a few iterations."
   ]
  },
  {
   "cell_type": "markdown",
   "metadata": {},
   "source": [
    "- ##### Exercise 4. In the web of Figure 1, remove the link from page 3 to page 1. In the resulting web, page 3 is now a dangling node. Set up the corresponding substochastic matrix and find its largest positive (Perron) eigenvalue. Find a nonnegative Perron eigenvector for this eigenvalue, and scale the vector so that its components sum to 1. Does the resulting ranking seem reasonable?"
   ]
  },
  {
   "cell_type": "markdown",
   "metadata": {},
   "source": [
    "In this case, as mentioned in the problem statement, the largest positive (Perron) eigenvalue has to be found. Thismis, given that the matrix has a dangling node it is not columns stochastic, and the largest eigenvalue has to be found, as it can not be asumed that it will be 1. To do so:"
   ]
  },
  {
   "cell_type": "markdown",
   "metadata": {},
   "source": [
    "\\begin{equation}\n",
    "det\\left ( A-\\lambda I_n \\right )=0\n",
    "\\end{equation}"
   ]
  },
  {
   "cell_type": "markdown",
   "metadata": {},
   "source": [
    "\\begin{equation}\n",
    "\\left|\n",
    "\\begin{array}{cccc}\n",
    "-\\lambda&0&0&1/2 \\\\\n",
    "1/3&-\\lambda&0&0\\\\\n",
    "1/3&1/2&-\\lambda&1/2\\\\\n",
    "1/3&1/2&0&-\\lambda\\\\\n",
    "\\end{array}\n",
    "\\right|\n",
    "=\\lambda \\left (-\\lambda^3 \\right) -1/2 \\left (-\\lambda^2/3 +\\lambda/6 \\right) =12\\lambda^4 -2\\lambda^2-\\lambda=0\n",
    "\\end{equation}"
   ]
  },
  {
   "cell_type": "markdown",
   "metadata": {},
   "source": [
    "Where the previous equation has the following roots:"
   ]
  },
  {
   "cell_type": "markdown",
   "metadata": {},
   "source": [
    "\\begin{equation}\n",
    "\\frac{x}{\\left \\| x \\right \\|_1}=\\left\\{\n",
    "\\begin{matrix}\n",
    "x_1=0\\\\                                        \n",
    "x_2=0.56086\\\\ \n",
    "x_3=-0.28068+0.26395j\\\\ \n",
    "x_4=-0.28068-0.26395j\n",
    "\\end{matrix}\\right.\n",
    "\\end{equation}"
   ]
  },
  {
   "cell_type": "markdown",
   "metadata": {},
   "source": [
    "The second eigenvalue, $x_2=0.56086$, is the one with higher magnitude, therefore it is its eigenvector that we are interested in obtaining."
   ]
  },
  {
   "cell_type": "markdown",
   "metadata": {},
   "source": [
    "Having reached to this point, the solution could be obtained be Gaussian elimination. Here below the final step having performed several steps of Gaussian elimination is shown. As it can be seen, even though the system has a solution, solving it by Gaussian elimination has lead to the trivial solution. However, knowing that the score vector must add up to 1, it can be seen that the solution can be obtained by assigning a non-zero value to $x_4$, that way, as shown further on we solve for the PR vector:"
   ]
  },
  {
   "cell_type": "markdown",
   "metadata": {},
   "source": [
    "\\begin{equation}\n",
    "(A|0)=\n",
    "\\left(\n",
    "\\begin{array}{cccc|c}\n",
    "1&0&0&-\\frac{25}{28}&0 \\\\\n",
    "0&1&0&-\\frac{625}{1176}&0 \\\\\n",
    "0&0&1&-\\frac{62525}{32928}&0\\\\\n",
    "0&0&0&1&0\\\\\n",
    "\\end{array}\n",
    "\\right)\n",
    "\\rightarrow\n",
    "\\frac{x}{\\left \\| x \\right \\|_1}=\\left\\{\\begin{matrix}\n",
    "x_1=\\frac{\\frac{25}{28}}{\\left \\| x \\right \\|_1}=0.2065\\\\ \n",
    "x_2=\\frac{\\frac{625}{1176}}{\\left \\| x \\right \\|_1}=0.1229\\\\ \n",
    "x_3=\\frac{\\frac{62525}{32928}}{\\left \\| x \\right \\|_1}=0.4392\\\\\n",
    "x_4=\\frac{1}{\\left \\| x \\right \\|_1}=0.2313\n",
    "\\end{matrix}\\right.\n",
    "\\end{equation}\n"
   ]
  },
  {
   "cell_type": "markdown",
   "metadata": {},
   "source": [
    "The calculations are verified below:"
   ]
  },
  {
   "cell_type": "code",
   "execution_count": 9,
   "metadata": {
    "collapsed": false
   },
   "outputs": [
    {
     "data": {
      "text/plain": [
       "array([ 0.20652884,  0.12293383,  0.43922503,  0.2313123 ])"
      ]
     },
     "execution_count": 9,
     "metadata": {},
     "output_type": "execute_result"
    }
   ],
   "source": [
    "c=1\n",
    "x=np.array([c*25.0/28,c*625.0/1176,c*62525.0/32928 ,c])\n",
    "x/sum(x)"
   ]
  },
  {
   "cell_type": "markdown",
   "metadata": {},
   "source": [
    "The solution can be verified directly solving the system as follows:"
   ]
  },
  {
   "cell_type": "code",
   "execution_count": 10,
   "metadata": {
    "collapsed": false
   },
   "outputs": [],
   "source": [
    "x1=0\n",
    "x2=0.5608695\n",
    "x3=-0.28068+0.26395j\n",
    "x4=-0.28068-0.26395j\n",
    "x=np.array([x1,x2,x3,x4])"
   ]
  },
  {
   "cell_type": "code",
   "execution_count": 11,
   "metadata": {
    "collapsed": false
   },
   "outputs": [
    {
     "data": {
      "text/plain": [
       "array([[-0.5608695 ,  0.        ,  0.        ,  0.5       ],\n",
       "       [ 0.33333333, -0.5608695 ,  0.        ,  0.        ],\n",
       "       [ 0.33333333,  0.5       , -0.5608695 ,  0.5       ],\n",
       "       [ 0.33333333,  0.5       ,  0.        , -0.5608695 ]])"
      ]
     },
     "execution_count": 11,
     "metadata": {},
     "output_type": "execute_result"
    }
   ],
   "source": [
    "A=np.array([[-x2,0,0,1.0/2],[1.0/3,-x2,0,0],[1.0/3,1.0/2,-x2,1.0/2],\n",
    "            [1.0/3,1.0/2,0,-x2]])\n",
    "A"
   ]
  },
  {
   "cell_type": "code",
   "execution_count": 350,
   "metadata": {
    "collapsed": true
   },
   "outputs": [],
   "source": [
    "eigv=solve(A,x)"
   ]
  },
  {
   "cell_type": "code",
   "execution_count": 344,
   "metadata": {
    "collapsed": false
   },
   "outputs": [
    {
     "data": {
      "text/plain": [
       "array([ 0.20669151,  0.12232505,  0.43913074,  0.23185394])"
      ]
     },
     "execution_count": 344,
     "metadata": {},
     "output_type": "execute_result"
    }
   ],
   "source": [
    "abs(eigv/sum(eigv))"
   ]
  },
  {
   "cell_type": "markdown",
   "metadata": {},
   "source": [
    "- ##### Exercise 10. Suppose that A is the link matrix for a strongly connected web of n pages (any page can be reached from any other page by following a finite number of links). Show that dim(V1(A)) = 1 as follows. Let (Ak)ij denote the (i,j)-entry of Ak."
   ]
  },
  {
   "cell_type": "markdown",
   "metadata": {},
   "source": [
    "- Show that\n",
    "\\begin{equation}\n",
    "(A^2)_{ij}=\\sum_{k=1}^na_{ik}a_{kj}>0\n",
    "\\end{equation}"
   ]
  },
  {
   "cell_type": "markdown",
   "metadata": {},
   "source": [
    "Note that if page i can be reached from page j in exactly two steps, there must be some k, for which going from i $\\rightarrow$ k and then from k $\\rightarrow$ j (therefore two steps ) gives a non-zero result, therefore a connection exists, and therefore one of the terms in the sumation must be nonzero."
   ]
  },
  {
   "cell_type": "markdown",
   "metadata": {},
   "source": [
    "- Show more generally that $(A^p)_{ij}$ > 0 if and only if page i can be reached from page j in exactly p steps."
   ]
  },
  {
   "cell_type": "markdown",
   "metadata": {},
   "source": [
    "Having deduced the statement for reaching a node in two steps, this can be extended to p steps by using the same logic. This is, to reach i from page j in p steps, there must be a combination of p steps out of all possible combinations that is nonzero and therefore enables that node to be reached."
   ]
  },
  {
   "cell_type": "markdown",
   "metadata": {},
   "source": [
    "More precisely:\n",
    "\\begin{equation}\n",
    "(A^p)_{ij}=\\sum_{1\\leqslant l_1,...,l_{k-1}\\leqslant n}^{n} a_{il_1}a_{l_1l_2}...a_{k-1,j}\n",
    "\\end{equation}"
   ]
  },
  {
   "cell_type": "markdown",
   "metadata": {},
   "source": [
    "- Argue that $(I+A+A^2 +···+A^p)_ij > 0$ if and only if page i can be reached from page j in p or fewer steps"
   ]
  },
  {
   "cell_type": "markdown",
   "metadata": {},
   "source": [
    "Having shown that for for page i to be reached by page j in p steps, $(A^p)_{ij}>0$ must be satisfied, it also makes sense to state that it can also be reached in a minor amount of steps if for any $A^q$, for $q< p$ the condition is satisfied.\n"
   ]
  },
  {
   "cell_type": "markdown",
   "metadata": {},
   "source": [
    "- Explain why $I+A+A^2 +···+A^{n−1}$ is a positive matrix if the web is strongly\n",
    "connected."
   ]
  },
  {
   "cell_type": "markdown",
   "metadata": {},
   "source": [
    "If a web is strongly connected, it means that any node can be reached from any other node in a given number of steps. Therefore for all possible j's to i's, there must be a combination of steps ( therefore some $A^p$ ) through which the final node can be reached, which is to say that there must be a positive term."
   ]
  },
  {
   "cell_type": "markdown",
   "metadata": {},
   "source": [
    "- Use the last part (and Exercise 8) to show that $B = \\frac{1}{n} (I+A+A^2 +· · ·+A^{n−1})$ is positive and column-stochastic (and hence by Lemma 3, dim(V1(B)) = 1)."
   ]
  },
  {
   "cell_type": "markdown",
   "metadata": {},
   "source": [
    "A is column stochastic, which can also be expressed as: $1^t A=1^t$, ans therefore expressing B as:"
   ]
  },
  {
   "cell_type": "markdown",
   "metadata": {},
   "source": [
    "$B = \\frac{1}{n} (I+A+A^2 +· · ·+A^{n−1}) = \\frac{1}{n} (1^t+...+1^t)=1^t$"
   ]
  },
  {
   "cell_type": "markdown",
   "metadata": {},
   "source": [
    "It can be seen that B is also columns stochastic."
   ]
  },
  {
   "cell_type": "markdown",
   "metadata": {},
   "source": [
    "- Show that if x ∈ V1(A), then x ∈ V1(B). Why does this imply that dim(V1(A))\n",
    "= 1?"
   ]
  },
  {
   "cell_type": "markdown",
   "metadata": {},
   "source": [
    "Nowing that $x ∈ V1(A)$, this is $Ax=x$ for some x, then this score vector from the eigenspace for the eigenvalue 1 from a column stochastic matrix A is also contained in B, given that, as it has already been shown, when A is column stochastic B also is column stochastic, hence it will also contain a maximum eigenvalue equal to one, and this eigenspace will have the same dimension, $V_1(A)=V_1(B)$. \n"
   ]
  },
  {
   "cell_type": "markdown",
   "metadata": {},
   "source": [
    "##### Task 2: Implement the three previous algorithms to compute the PR vector. Use them for the examples in [1] to check they work properly."
   ]
  },
  {
   "cell_type": "markdown",
   "metadata": {},
   "source": [
    "All algorithms have been implemented taking advantage of the sparsity of the matrices to speed up the computations. The matrices from exercise one are used to test the correctness of the results for all cases.\n",
    "\n",
    "In all cases, it can be noticed that when the PR vector for the matrix with a a dangling node is obtained, i.e. the third matrix for all strategies in task 2, the result is somewhat deviated from the correct one obtained in task 1. The reason behind this is that here we approximate A with a matrix M, that modifies slightly the matrix, as the elements from the column which elements add up to 0 are divided by n. This effect is irrelevant for large matrices, as n will be very large, thus $\\frac{1}{n}\\approx 0$, but when the method is implemented on smaller matrices it gives a slightly different result."
   ]
  },
  {
   "cell_type": "markdown",
   "metadata": {},
   "source": [
    "- ##### 1. Solving a linear system"
   ]
  },
  {
   "cell_type": "markdown",
   "metadata": {},
   "source": [
    "The function below solves the system directly and returns the PR vector. This algorithm however becomes computationally very expensive, as it involves inerting B, defined below, to solve for PR. This becomes more clear when larger matrices are used in strategy 3."
   ]
  },
  {
   "cell_type": "code",
   "execution_count": 15,
   "metadata": {
    "collapsed": true
   },
   "outputs": [],
   "source": [
    "def linear_system_solve(n,G,col,m=0.15):\n",
    "    index,c=np.unique(col,return_counts=True)\n",
    "    d=np.zeros(n)\n",
    "    d[np.array(map(int,index))]=1.0/c\n",
    "    B=identity(n)-(1-m)*G.dot(diags(d))\n",
    "    e=np.ones(n)\n",
    "    x=spsolve(B,-e)\n",
    "    return x/sum(x)"
   ]
  },
  {
   "cell_type": "markdown",
   "metadata": {},
   "source": [
    "This method is tested hereunder for the matrices used task 1, showing that it is correctly implemented."
   ]
  },
  {
   "cell_type": "code",
   "execution_count": 8,
   "metadata": {
    "collapsed": false
   },
   "outputs": [
    {
     "name": "stdout",
     "output_type": "stream",
     "text": [
      "[[ 0.  0.  1.  1.  0.]\n",
      " [ 1.  0.  0.  0.  0.]\n",
      " [ 1.  1.  0.  1.  1.]\n",
      " [ 1.  1.  0.  0.  0.]\n",
      " [ 0.  0.  1.  0.  0.]]\n"
     ]
    },
    {
     "data": {
      "text/plain": [
       "array([ 0.24440379,  0.08265325,  0.36613802,  0.12356661,  0.18323832])"
      ]
     },
     "execution_count": 8,
     "metadata": {},
     "output_type": "execute_result"
    }
   ],
   "source": [
    "n=5\n",
    "row = np.array([0, 0, 1, 2, 2, 2, 2, 3, 3, 4])\n",
    "col = np.array([2, 3, 0, 0, 1, 3, 4, 0, 1, 2])\n",
    "data = np.array([1.0, 1.0, 1.0, 1.0, 1.0, 1.0, 1.0, 1.0, 1.0, 1.0])\n",
    "G=csr_matrix((data, (row, col)), shape=(n, n))\n",
    "print G.toarray()\n",
    "linear_system_solve(n,G,m=0.01)"
   ]
  },
  {
   "cell_type": "code",
   "execution_count": 108,
   "metadata": {
    "collapsed": false
   },
   "outputs": [
    {
     "name": "stdout",
     "output_type": "stream",
     "text": [
      "[[ 0.  0.  1.  1.]\n",
      " [ 1.  0.  0.  0.]\n",
      " [ 1.  1.  0.  1.]\n",
      " [ 1.  1.  0.  0.]]\n"
     ]
    },
    {
     "data": {
      "text/plain": [
       "array([ 0.38586893,  0.12983675,  0.29018838,  0.19410594])"
      ]
     },
     "execution_count": 108,
     "metadata": {},
     "output_type": "execute_result"
    }
   ],
   "source": [
    "n=4\n",
    "row = np.array([0,0, 1, 2, 2, 2, 3, 3])\n",
    "col = np.array([2,3, 0, 0, 1, 3, 0, 1])\n",
    "data = np.array([1.0, 1.0, 1.0, 1.0, 1.0, 1.0, 1.0, 1.0])\n",
    "G=csr_matrix((data, (row, col)), shape=(n, n))\n",
    "print G.toarray()\n",
    "linear_system_solve(n,G,m=0.01)"
   ]
  },
  {
   "cell_type": "code",
   "execution_count": 94,
   "metadata": {
    "collapsed": false
   },
   "outputs": [
    {
     "name": "stdout",
     "output_type": "stream",
     "text": [
      "[[ 0.  0.  0.  1.]\n",
      " [ 1.  0.  0.  0.]\n",
      " [ 1.  1.  0.  1.]\n",
      " [ 1.  1.  0.  0.]]\n"
     ]
    },
    {
     "data": {
      "text/plain": [
       "array([ 0.21923755,  0.17523074,  0.35582792,  0.2497038 ])"
      ]
     },
     "execution_count": 94,
     "metadata": {},
     "output_type": "execute_result"
    }
   ],
   "source": [
    "n=4\n",
    "d=np.zeros(n)\n",
    "row = np.array([0, 1, 2, 2, 2, 3, 3])\n",
    "col = np.array([3, 0, 0, 1, 3, 0, 1])\n",
    "data = np.array([1.0, 1.0, 1.0, 1.0, 1.0, 1.0, 1.0])\n",
    "G=csr_matrix((data, (row, col)), shape=(n, n))\n",
    "print G.toarray()\n",
    "linear_system_solve(n,G)"
   ]
  },
  {
   "cell_type": "markdown",
   "metadata": {},
   "source": [
    "- ##### 2. Power method (adapted to PR computation)"
   ]
  },
  {
   "cell_type": "markdown",
   "metadata": {},
   "source": [
    "Here is the algorithm for the second strategy, this is, the adapted PR computation.\n",
    "As specifiedin the exercise statement, the algorithm iterates until $\\left \\| x_{k+1}-x_k \\right \\|_\\infty < tol$, where tol has defined to be as an example 1e-8.\n",
    "\n",
    "An important detail taken into account for the computation, is that when when the product $ez^tx$ is performed, first $z^tx$ must be multiplied, as the result is a scalar, which can then be multiplied to e. Otherwise firstly a matrix is computed, and then multiplied by a vector instead, which in comparisson is highly inefficient. This fact supposes a massive difference when larger matrices are used, for instance lake the one in task 3.\n",
    "\n",
    "For the matrices under test, low values of m have been used, given that higher values give a larger deviation of the result for such small matrices."
   ]
  },
  {
   "cell_type": "code",
   "execution_count": 17,
   "metadata": {
    "collapsed": false
   },
   "outputs": [],
   "source": [
    "def power_method(n,G,col,m=0.15,tol=1e-8):\n",
    "    i=0\n",
    "    index,c=np.unique(col,return_counts=True)\n",
    "    d=np.zeros(n)\n",
    "    d[np.array(map(int,index))]=1.0/c\n",
    "    A=G.dot(diags(d))\n",
    "    e=np.ones(n)\n",
    "    x=np.ones(n)*(1.0/n)\n",
    "    z=np.ones(n)*(1.0/n)\n",
    "    z[np.array(map(int,index))]=(m/n)\n",
    "    while True:\n",
    "        x_aux=np.array((1-m)*A.dot(x)+np.dot(e,np.dot(z.T,x))).flatten()\n",
    "        if norm(x_aux-x,np.inf)<tol:\n",
    "            break\n",
    "        x=x_aux\n",
    "        i+=1\n",
    "    return x"
   ]
  },
  {
   "cell_type": "markdown",
   "metadata": {},
   "source": [
    "This method is tested hereunder for the matrices used task 1, showing that it is correctly implemented."
   ]
  },
  {
   "cell_type": "code",
   "execution_count": 17,
   "metadata": {
    "collapsed": false
   },
   "outputs": [
    {
     "name": "stdout",
     "output_type": "stream",
     "text": [
      "Matrix G used:\n",
      "[[ 0.  0.  1.  1.]\n",
      " [ 1.  0.  0.  0.]\n",
      " [ 1.  1.  0.  1.]\n",
      " [ 1.  1.  0.  0.]]\n",
      "PR vector: [ 0.38697422  0.12911241  0.2903093   0.19360406]\n"
     ]
    }
   ],
   "source": [
    "n=4\n",
    "row = np.array([0,0, 1, 2, 2, 2, 3, 3])\n",
    "col = np.array([2,3, 0, 0, 1, 3, 0, 1])\n",
    "data = np.array([1.0, 1.0, 1.0, 1.0, 1.0, 1.0, 1.0, 1.0])\n",
    "G=csr_matrix((data, (row, col)), shape=(n, n))\n",
    "print \"Matrix G used:\"\n",
    "print G.toarray()\n",
    "print \"PR vector:\", power_method(n,G,col,m=0.001)"
   ]
  },
  {
   "cell_type": "code",
   "execution_count": 16,
   "metadata": {
    "collapsed": false
   },
   "outputs": [
    {
     "name": "stdout",
     "output_type": "stream",
     "text": [
      "Matrix G used:\n",
      "[[ 0.  0.  1.  1.  0.]\n",
      " [ 1.  0.  0.  0.  0.]\n",
      " [ 1.  1.  0.  1.  1.]\n",
      " [ 1.  1.  0.  0.  0.]\n",
      " [ 0.  0.  1.  0.  0.]]\n",
      "PR vector: [ 0.24484871  0.08173462  0.36722614  0.12256106  0.18362946]\n"
     ]
    }
   ],
   "source": [
    "n=5\n",
    "row = np.array([0, 0, 1, 2, 2, 2, 2, 3, 3, 4])\n",
    "col = np.array([2, 3, 0, 0, 1, 3, 4, 0, 1, 2])\n",
    "data = np.array([1.0, 1.0, 1.0, 1.0, 1.0, 1.0, 1.0, 1.0, 1.0, 1.0])\n",
    "G=csr_matrix((data, (row, col)), shape=(n, n))\n",
    "print \"Matrix G used:\"\n",
    "print G.toarray()\n",
    "print \"PR vector:\", power_method(n,G,col,m=0.001) "
   ]
  },
  {
   "cell_type": "code",
   "execution_count": 18,
   "metadata": {
    "collapsed": false
   },
   "outputs": [
    {
     "name": "stdout",
     "output_type": "stream",
     "text": [
      "Matrix G used:\n",
      "[[ 0.  0.  0.  1.]\n",
      " [ 1.  0.  0.  0.]\n",
      " [ 1.  1.  0.  1.]\n",
      " [ 1.  1.  0.  0.]]\n",
      "PR vector: [ 0.21651175  0.16501436  0.37103484  0.24743905]\n"
     ]
    }
   ],
   "source": [
    "n=4\n",
    "row = np.array([0, 1, 2, 2, 2, 3, 3])\n",
    "col = np.array([3, 0, 0, 1, 3, 0, 1])\n",
    "data = np.array([1.0, 1.0, 1.0, 1.0, 1.0, 1.0, 1.0])\n",
    "G=csr_matrix((data, (row, col)), shape=(n, n))\n",
    "print \"Matrix G used:\"\n",
    "print G.toarray()\n",
    "print \"PR vector:\", power_method(n,G,col,m=0.001)"
   ]
  },
  {
   "cell_type": "markdown",
   "metadata": {},
   "source": [
    "- ##### 3. Power method without storing the matrices."
   ]
  },
  {
   "cell_type": "markdown",
   "metadata": {},
   "source": [
    "Here a function containing the third strategy has been defined. The algorithm provided in \"PRnmalgor.pdf\" has been strictly followed. In order to do so the set of indices $L_j$ corresponding to pages having a link with page j, and $c_j$ have been computed prior to the iteration loop. This has shown to result in a much higher efficiency and speed than obtaining these values inside the loop. The steps are briefly explained inside the function"
   ]
  },
  {
   "cell_type": "code",
   "execution_count": 18,
   "metadata": {
    "collapsed": false
   },
   "outputs": [],
   "source": [
    "def power_method_no_storing(n,row,col,tol=1e-8,m=0.15):\n",
    "    \n",
    "    # Here cj and Lj are obtained. Dangling nodes are not\n",
    "    # taken into account, therefore zeros must be added\n",
    "    c_tmp = np.asarray((row).groupby(col).size())\n",
    "    L_tmp = np.asarray((row).groupby(col).groups.values())\n",
    "    L_tmp2 = itemgetter(*L_tmp)(np.asarray(row))\n",
    "\n",
    "    # Here the positions where dangling nodes exist are obtained, \n",
    "    # and stored in idx_dn\n",
    "    idx = np.unique(col)\n",
    "    idx2 = np.arange(idx[-1])\n",
    "    idx_dn = np.argwhere(np.in1d(idx2, np.intersect1d(idx2,idx))==False)\n",
    "\n",
    "    # Here the indexes with dangling nodes are added into c as zeros. \n",
    "    # NaNs have been added into L,\n",
    "    # given that the values do not matter, L[j] is not used \n",
    "    # in the if statement of the While.\n",
    "    c = np.insert(c_tmp,(idx_dn.ravel()-np.arange(len(idx_dn))),\n",
    "        [[0]] * len(idx_dn))\n",
    "    L = np.insert(L_tmp2,(idx_dn.ravel()-np.arange(len(idx_dn))),\n",
    "        [[np.nan]] * len(idx_dn))\n",
    "\n",
    "    xc=np.ones(n)*(1.0/n)\n",
    "    x=np.zeros(n)\n",
    "    iters=0\n",
    "\n",
    "    while(norm(x-xc,np.inf)>tol):\n",
    "        iters+=1\n",
    "        xc=x\n",
    "        x=np.zeros(n)\n",
    "        for j in range(0,n):\n",
    "            if c[j]==[0]:\n",
    "                x = x + xc[j]/n\n",
    "            else:\n",
    "                x[L[j]] = x[L[j]] + xc[j]/c[j]\n",
    "        x = (1-m)*x + m/n\n",
    "    return iters,x"
   ]
  },
  {
   "cell_type": "markdown",
   "metadata": {},
   "source": [
    "This method is tested hereunder for the matrices used task 1, showing that it is correctly implemented."
   ]
  },
  {
   "cell_type": "code",
   "execution_count": 13,
   "metadata": {
    "collapsed": false
   },
   "outputs": [
    {
     "name": "stdout",
     "output_type": "stream",
     "text": [
      "Matrix G used:\n",
      "[[ 0.  0.  1.  1.]\n",
      " [ 1.  0.  0.  0.]\n",
      " [ 1.  1.  0.  1.]\n",
      " [ 1.  1.  0.  0.]]\n",
      "The amount of iterations is: 1282\n",
      "The vector of scores x is: [ 0.38586795  0.12983642  0.29018764  0.19410545]\n"
     ]
    }
   ],
   "source": [
    "n=4\n",
    "row = pd.Series([0,0, 1, 2, 2, 2, 3, 3])\n",
    "col = pd.Series([2,3, 0, 0, 1, 3, 0, 1])\n",
    "data = pd.Series([1.0, 1.0, 1.0, 1.0, 1.0, 1.0, 1.0, 1.0])\n",
    "G=csr_matrix((data, (row, col)), shape=(n, n))\n",
    "print \"Matrix G used:\"\n",
    "print G.toarray()\n",
    "iters,x = power_method_no_storing(n,row,col,m=1e-2)\n",
    "print \"The amount of iterations is:\", iters\n",
    "print \"The vector of scores x is:\", x"
   ]
  },
  {
   "cell_type": "code",
   "execution_count": 31,
   "metadata": {
    "collapsed": false
   },
   "outputs": [
    {
     "name": "stdout",
     "output_type": "stream",
     "text": [
      "Matrix G used:\n",
      "[[ 0.  0.  1.  1.  0.]\n",
      " [ 1.  0.  0.  0.  0.]\n",
      " [ 1.  1.  0.  1.  1.]\n",
      " [ 1.  1.  0.  0.  0.]\n",
      " [ 0.  0.  1.  0.  0.]]\n",
      "The amount of iterations is: 1276\n",
      "The vector of scores x is: [ 0.24440313  0.08265303  0.36613703  0.12356628  0.18323783]\n"
     ]
    }
   ],
   "source": [
    "n=5\n",
    "row = pd.Series([0, 0, 1, 2, 2, 2, 2, 3, 3, 4])\n",
    "col = pd.Series([2, 3, 0, 0, 1, 3, 4, 0, 1, 2])\n",
    "data = pd.Series([1.0, 1.0, 1.0, 1.0, 1.0, 1.0, 1.0, 1.0, 1.0, 1.0])\n",
    "G=csr_matrix((data, (row, col)), shape=(n, n))\n",
    "print \"Matrix G used:\"\n",
    "print G.toarray()\n",
    "iters,x = power_method_no_storing(n,row,col,m=1e-2)\n",
    "print \"The amount of iterations is:\", iters\n",
    "print \"The vector of scores x is:\", x"
   ]
  },
  {
   "cell_type": "code",
   "execution_count": 32,
   "metadata": {
    "collapsed": false
   },
   "outputs": [
    {
     "name": "stdout",
     "output_type": "stream",
     "text": [
      "Matrix G used:\n",
      "[[ 0.  0.  0.  1.]\n",
      " [ 1.  0.  0.  0.]\n",
      " [ 1.  1.  0.  1.]\n",
      " [ 1.  1.  0.  0.]]\n",
      "The amount of iterations is: 1278\n",
      "The vector of scores x is: [ 0.21666411  0.16560869  0.37013956  0.24758499]\n"
     ]
    }
   ],
   "source": [
    "n=4\n",
    "row = pd.Series([0, 1, 2, 2, 2, 3, 3])\n",
    "col = pd.Series([3, 0, 0, 1, 3, 0, 1])\n",
    "data = pd.Series([1.0, 1.0, 1.0, 1.0, 1.0, 1.0, 1.0])\n",
    "G=csr_matrix((data, (row, col)), shape=(n, n))\n",
    "print \"Matrix G used:\"\n",
    "print G.toarray()\n",
    "iters,x = power_method_no_storing(n,row,col,m=1e-2)\n",
    "print \"The amount of iterations is:\", iters\n",
    "print \"The vector of scores x is:\", x"
   ]
  },
  {
   "cell_type": "markdown",
   "metadata": {},
   "source": [
    "##### Task 3: Download the \f",
    "le p2p-Gnutella30.mtx from the Sparse Matrix collection [3] Then use the previous methods to compute the PR vector. Report the results obtained. Inves- tigate the role of tol in the computation and the components of the PR vector."
   ]
  },
  {
   "cell_type": "markdown",
   "metadata": {},
   "source": [
    "Here the specified matrix is downloaded. The first 54 rows are skipped as they contain no data."
   ]
  },
  {
   "cell_type": "code",
   "execution_count": 20,
   "metadata": {
    "collapsed": false
   },
   "outputs": [],
   "source": [
    "G=pd.read_table(\"p2p-Gnutella30.mtx\",sep=\" \",skiprows=54).as_matrix()\n",
    "row = G[:,0]-1\n",
    "col = G[:,1]-1\n",
    "data=np.ones(len(row))\n",
    "n=int(col[-1]+1)\n",
    "G=csr_matrix((data, (row, col)), shape=(n, n))"
   ]
  },
  {
   "cell_type": "markdown",
   "metadata": {},
   "source": [
    "Here the PR vector is computed using the three defined strategies. As it can be seen all algorithm return the same PR vector."
   ]
  },
  {
   "cell_type": "markdown",
   "metadata": {},
   "source": [
    "- ##### 1. Solving a linear system"
   ]
  },
  {
   "cell_type": "markdown",
   "metadata": {},
   "source": [
    "As it can be seen, solving the linear system in strategy 1 results highly inefficient even though sparse matrices are used. The algorithm takes 140 s to calculate the PR vector."
   ]
  },
  {
   "cell_type": "code",
   "execution_count": 21,
   "metadata": {
    "collapsed": false
   },
   "outputs": [
    {
     "name": "stdout",
     "output_type": "stream",
     "text": [
      "The computational time elapsed is: 171.015712\n",
      "The vector of scores x is: [  1.32691841e-04   4.42088107e-06   6.58669412e-05 ...,   4.42088107e-06\n",
      "   4.42088107e-06   4.42088107e-06]\n"
     ]
    }
   ],
   "source": [
    "time_start = time.clock()\n",
    "x = linear_system_solve(n,G,col)\n",
    "time_elapsed = (time.clock() - time_start)\n",
    "print \"The computational time elapsed is:\", time_elapsed\n",
    "print \"The vector of scores x is:\", x"
   ]
  },
  {
   "cell_type": "markdown",
   "metadata": {},
   "source": [
    "- ##### 2. Power method (adapted to PR computation)"
   ]
  },
  {
   "cell_type": "markdown",
   "metadata": {},
   "source": [
    "This method is clearly the fastest of all. As previously mentioned, performing the products in the right order makes a huge difference in efficiency."
   ]
  },
  {
   "cell_type": "code",
   "execution_count": 22,
   "metadata": {
    "collapsed": false
   },
   "outputs": [
    {
     "name": "stdout",
     "output_type": "stream",
     "text": [
      "The computational time elapsed is: 0.112508\n",
      "The vector of scores x is: [  1.32691886e-04   4.42088114e-06   6.58669215e-05 ...,   4.42088114e-06\n",
      "   4.42088114e-06   4.42088114e-06]\n"
     ]
    }
   ],
   "source": [
    "time_start = time.clock()\n",
    "x = power_method(n,G,col)\n",
    "time_elapsed = (time.clock() - time_start)\n",
    "print \"The computational time elapsed is:\", time_elapsed\n",
    "print \"The vector of scores x is:\", x"
   ]
  },
  {
   "cell_type": "markdown",
   "metadata": {},
   "source": [
    "- ##### 3. Power method without storing the matrices."
   ]
  },
  {
   "cell_type": "markdown",
   "metadata": {},
   "source": [
    "The third method as shown is obviously not as fast as the second one, but it presents a clear advantage not requireing to store the matrices, this is, all operationds are performed through $L_j$ and $c_j$. "
   ]
  },
  {
   "cell_type": "code",
   "execution_count": 23,
   "metadata": {
    "collapsed": false
   },
   "outputs": [],
   "source": [
    "G=pd.read_table(\"p2p-Gnutella30.mtx\",sep=\" \",skiprows=54)\n",
    "row = G.ix[:,0]-1\n",
    "col = G.ix[:,1]-1\n",
    "n = col.iloc[-1]+1"
   ]
  },
  {
   "cell_type": "markdown",
   "metadata": {},
   "source": [
    "Here the third strategy is used to obtain the PR vector for a tolerance of $1e^{-8}$. Later on the effect of the tolerance is analysed in more detail. In this case the answer is obtained in 15 s."
   ]
  },
  {
   "cell_type": "code",
   "execution_count": 24,
   "metadata": {
    "collapsed": false
   },
   "outputs": [
    {
     "name": "stdout",
     "output_type": "stream",
     "text": [
      "The computational time elapsed is: 14.929948\n",
      "The amount of iterations is: 67\n",
      "The vector of scores x is: [  1.32690167e-04   4.42087525e-06   6.58663903e-05 ...,   4.42087525e-06\n",
      "   4.42087525e-06   4.42087525e-06]\n"
     ]
    }
   ],
   "source": [
    "time_start = time.clock()\n",
    "iters,x = power_method_no_storing(n,row,col,m=0.15,tol=1e-8)\n",
    "time_elapsed = (time.clock() - time_start)\n",
    "print \"The computational time elapsed is:\", time_elapsed\n",
    "print \"The amount of iterations is:\", iters\n",
    "print \"The vector of scores x is:\", x"
   ]
  },
  {
   "cell_type": "markdown",
   "metadata": {},
   "source": [
    "Here the algorithm is analysed in more detail. The amount of iterations and computational times are displayed further down for a tolerance from $1e^{-1}$ up to $1e^{-13}$.\n",
    "\n",
    "As it can be noticed, the PR vector converges to a constant value, with a precision of $1e^{-8}·1e^{-6}=1e^{-14}$, which is the amount of decimals displayed on screen for values of the order $e^{-6}$, from the 13th iteration, thus a tolerance of $1e^{-13}$.\n",
    "\n",
    "It can also be observed that until a $tol=1e^{-6}$ the resulting PR vector does not approach the correct one. The reson behind this is that, for the original chosen x and auxiliary xc vector, where xc is used to check the convergence, the infinity norm $\\left \\| x_{k+1}-x_k \\right \\|_\\infty$ is:"
   ]
  },
  {
   "cell_type": "code",
   "execution_count": 169,
   "metadata": {
    "collapsed": false
   },
   "outputs": [
    {
     "data": {
      "text/plain": [
       "2.7261327081402323e-05"
      ]
     },
     "execution_count": 169,
     "metadata": {},
     "output_type": "execute_result"
    }
   ],
   "source": [
    "xc=np.ones(n)*(1.0/n)\n",
    "x=np.zeros(n)\n",
    "norm(x-xc,np.inf)"
   ]
  },
  {
   "cell_type": "markdown",
   "metadata": {},
   "source": [
    "Therefore the tolerance must be higher than $1e^{-6}$ due to the construction of the problem. \n",
    "\n",
    "The rate of convergence of the power method depends on the ratio between the two largest eigenvalues, this is $\\frac{|\\lambda_1|}{|\\lambda_2|}$. The rate of convergence of this method hence is linear. This is shown in the following plot, where as it can be seen, the increasment of the time elapsed is linear for increments of the tolerance.\n",
    "\n",
    "The rate of convergence with strategy 3 has also been analyzed for different tolerances. As expected, the lower the tolerance the higher the amount of iterations to reach the condition, and therefore the higher computational time. The following plot shows the increasment of the computational time in terms of the tolerances under test. A similar behaviour has been observed regarding strategy 2, mantaining the clearly lower computational time to solve for the PR vector. "
   ]
  },
  {
   "cell_type": "code",
   "execution_count": 192,
   "metadata": {
    "collapsed": false
   },
   "outputs": [
    {
     "data": {
      "image/png": "[encoded data removed]",
      "text/plain": [
       "<matplotlib.figure.Figure at 0x11672df10>"
      ]
     },
     "metadata": {},
     "output_type": "display_data"
    }
   ],
   "source": [
    "import matplotlib.pyplot as plt\n",
    "plt.figure()\n",
    "line1,=plt.plot(k,time_elapsed,'b')\n",
    "plt.xlabel('$k$, $(tol=1e^{-k})$', fontsize=13)\n",
    "plt.ylabel('time_elapsed (s)', fontsize=10)\n",
    "plt.show()"
   ]
  },
  {
   "cell_type": "code",
   "execution_count": 186,
   "metadata": {
    "collapsed": false
   },
   "outputs": [
    {
     "name": "stdout",
     "output_type": "stream",
     "text": [
      "0 iterations with tol=1e-1 in 0.161s\n",
      "PR vector: [ 0.  0.  0. ...,  0.  0.  0.]\n",
      "\n",
      "0 iterations with tol=1e-2 in 0.144s\n",
      "PR vector: [ 0.  0.  0. ...,  0.  0.  0.]\n",
      "\n",
      "0 iterations with tol=1e-3 in 0.198s\n",
      "PR vector: [ 0.  0.  0. ...,  0.  0.  0.]\n",
      "\n",
      "0 iterations with tol=1e-4 in 0.150s\n",
      "PR vector: [ 0.  0.  0. ...,  0.  0.  0.]\n",
      "\n",
      "1 iterations with tol=1e-5 in 0.401s\n",
      "PR vector: [  4.08919906e-06   4.08919906e-06   4.08919906e-06 ...,   4.08919906e-06\n",
      "   4.08919906e-06   4.08919906e-06]\n",
      "\n",
      "39 iterations with tol=1e-6 in 8.098s\n",
      "PR vector: [  1.32533358e-04   4.42033072e-06   6.58147800e-05 ...,   4.42033072e-06\n",
      "   4.42033072e-06   4.42033072e-06]\n",
      "\n",
      "53 iterations with tol=1e-7 in 10.937s\n",
      "PR vector: [  1.32675553e-04   4.42082451e-06   6.58615806e-05 ...,   4.42082451e-06\n",
      "   4.42082451e-06   4.42082451e-06]\n",
      "\n",
      "67 iterations with tol=1e-8 in 13.891s\n",
      "PR vector: [  1.32690167e-04   4.42087525e-06   6.58663903e-05 ...,   4.42087525e-06\n",
      "   4.42087525e-06   4.42087525e-06]\n",
      "\n",
      "81 iterations with tol=1e-9 in 16.518s\n",
      "PR vector: [  1.32691669e-04   4.42088047e-06   6.58668846e-05 ...,   4.42088047e-06\n",
      "   4.42088047e-06   4.42088047e-06]\n",
      "\n",
      "95 iterations with tol=1e-10 in 19.430s\n",
      "PR vector: [  1.32691823e-04   4.42088101e-06   6.58669354e-05 ...,   4.42088101e-06\n",
      "   4.42088101e-06   4.42088101e-06]\n",
      "\n",
      "110 iterations with tol=1e-11 in 22.541s\n",
      "PR vector: [  1.32691839e-04   4.42088106e-06   6.58669407e-05 ...,   4.42088106e-06\n",
      "   4.42088106e-06   4.42088106e-06]\n",
      "\n",
      "124 iterations with tol=1e-12 in 25.814s\n",
      "PR vector: [  1.32691841e-04   4.42088107e-06   6.58669412e-05 ...,   4.42088107e-06\n",
      "   4.42088107e-06   4.42088107e-06]\n",
      "\n",
      "138 iterations with tol=1e-13 in 28.616s\n",
      "PR vector: [  1.32691841e-04   4.42088107e-06   6.58669412e-05 ...,   4.42088107e-06\n",
      "   4.42088107e-06   4.42088107e-06]\n",
      "\n",
      "152 iterations with tol=1e-14 in 30.964s\n",
      "PR vector: [  1.32691841e-04   4.42088107e-06   6.58669412e-05 ...,   4.42088107e-06\n",
      "   4.42088107e-06   4.42088107e-06]\n",
      "\n",
      "166 iterations with tol=1e-15 in 33.784s\n",
      "PR vector: [  1.32691841e-04   4.42088107e-06   6.58669412e-05 ...,   4.42088107e-06\n",
      "   4.42088107e-06   4.42088107e-06]\n",
      "\n",
      "180 iterations with tol=1e-16 in 37.073s\n",
      "PR vector: [  1.32691841e-04   4.42088107e-06   6.58669412e-05 ...,   4.42088107e-06\n",
      "   4.42088107e-06   4.42088107e-06]\n",
      "\n",
      "194 iterations with tol=1e-17 in 40.166s\n",
      "PR vector: [  1.32691841e-04   4.42088107e-06   6.58669412e-05 ...,   4.42088107e-06\n",
      "   4.42088107e-06   4.42088107e-06]\n",
      "\n",
      "211 iterations with tol=1e-18 in 46.882s\n",
      "PR vector: [  1.32691841e-04   4.42088107e-06   6.58669412e-05 ...,   4.42088107e-06\n",
      "   4.42088107e-06   4.42088107e-06]\n",
      "\n",
      "242 iterations with tol=1e-19 in 50.045s\n",
      "PR vector: [  1.32691841e-04   4.42088107e-06   6.58669412e-05 ...,   4.42088107e-06\n",
      "   4.42088107e-06   4.42088107e-06]\n",
      "\n"
     ]
    }
   ],
   "source": [
    "i=0\n",
    "k=np.arange(1.0,20.0)\n",
    "tolerance=1*10**(-k)\n",
    "time_elapsed=np.zeros(len(k))\n",
    "for tol in tolerance:\n",
    "    time_start = time.clock()\n",
    "    iter,x = power_method_no_storing(n,row,col,tol)\n",
    "    time_elapsed[i] = (time.clock() - time_start)\n",
    "    print \"%d iterations with tol=1e-%d in %.3fs\" % (iter,k[i],time_elapsed[i])\n",
    "    print \"PR vector:\", x\n",
    "    print\n",
    "    i+=1"
   ]
  },
  {
   "cell_type": "markdown",
   "metadata": {},
   "source": [
    "- ##### Discuss (no implementation re-quired) which are the possible strategies to deal with a larger webpage network"
   ]
  },
  {
   "cell_type": "markdown",
   "metadata": {},
   "source": [
    "An important drawback of the power method converges very slowly when the dominat eigenvalues have weak relative separation. However, the power method converges quite fast and gives a very good approximation of the eigenvector corresponding to the largest eigenvalue.\n",
    "\n",
    "Other alternatives exist for the case when we are dealing with very large matrices. This is the case of the Lanczos Iteration. This method gives at the end of every step a tri-diagonal matrix whose extreme eigenvalues approximatie the extreme eigenvalues of the original matrix. Under suitable initial conditions, the tridiagnoal matrix at the $n^{th}$ step has the same eigenvalues and the eigenvectors of the original matrix.\n",
    "\n",
    "The clear advantage, is that being the matrix tri-diagonal, the eigendecomposition is easily performed with other method, such as the power method.\n",
    "It is proved, that as long as $\\lambda_1$ is much larger than $\\lambda_2$, the Lanczos method converges much faster than the power method."
   ]
  }
 ],
 "metadata": {
  "anaconda-cloud": {},
  "kernelspec": {
   "display_name": "Python [default]",
   "language": "python",
   "name": "python2"
  },
  "language_info": {
   "codemirror_mode": {
    "name": "ipython",
    "version": 2
   },
   "file_extension": ".py",
   "mimetype": "text/x-python",
   "name": "python",
   "nbconvert_exporter": "python",
   "pygments_lexer": "ipython2",
   "version": "2.7.12"
  }
 },
 "nbformat": 4,
 "nbformat_minor": 1
}
