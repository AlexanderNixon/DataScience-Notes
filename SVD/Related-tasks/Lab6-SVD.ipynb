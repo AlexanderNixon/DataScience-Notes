{
 "cells": [
  {
   "cell_type": "markdown",
   "metadata": {},
   "source": [
    "# The SVD decomposition\n",
    "Àlex Escolà Nixon"
   ]
  },
  {
   "cell_type": "markdown",
   "metadata": {},
   "source": [
    "### 1.  Eigenvalue decomposition"
   ]
  },
  {
   "cell_type": "markdown",
   "metadata": {},
   "source": [
    "#### 1. Code a simple algorithm to compute SVD decomposition of a matrix A using the eigen-values/eigenvectors of AtA and AAt."
   ]
  },
  {
   "cell_type": "code",
   "execution_count": 453,
   "metadata": {
    "collapsed": false
   },
   "outputs": [],
   "source": [
    "import numpy as np\n",
    "from numpy.linalg import svd,matrix_rank,cond,pinv\n",
    "from scipy.linalg import eig,norm"
   ]
  },
  {
   "cell_type": "code",
   "execution_count": 429,
   "metadata": {
    "collapsed": true
   },
   "outputs": [],
   "source": [
    "m=4\n",
    "n=2"
   ]
  },
  {
   "cell_type": "code",
   "execution_count": 430,
   "metadata": {
    "collapsed": false
   },
   "outputs": [
    {
     "data": {
      "text/plain": [
       "array([[2, 4],\n",
       "       [1, 3],\n",
       "       [0, 0],\n",
       "       [0, 0]])"
      ]
     },
     "execution_count": 430,
     "metadata": {},
     "output_type": "execute_result"
    }
   ],
   "source": [
    "A=np.array([[2,1,0,0],[4,3,0,0]]).T\n",
    "AAt=A.dot(A.T)\n",
    "AtA=A.T.dot(A)\n",
    "A"
   ]
  },
  {
   "cell_type": "code",
   "execution_count": 431,
   "metadata": {
    "collapsed": false
   },
   "outputs": [],
   "source": [
    "vaps_AAt,veps_AAt=eig(AAt,right=True)\n",
    "vaps_AtA,veps_AtA=eig(AtA,right=True)"
   ]
  },
  {
   "cell_type": "code",
   "execution_count": 432,
   "metadata": {
    "collapsed": false
   },
   "outputs": [],
   "source": [
    "vaps_AAt=np.real(vaps_AAt)\n",
    "veps_AAt=np.real(veps_AAt)\n",
    "vaps_AtA=np.real(vaps_AtA)\n",
    "veps_AtA=np.real(veps_AtA)"
   ]
  },
  {
   "cell_type": "code",
   "execution_count": 433,
   "metadata": {
    "collapsed": true
   },
   "outputs": [],
   "source": [
    "L_AAt=np.argsort(vaps_AAt)[::-1]\n",
    "L_AtA=np.argsort(vaps_AtA)[::-1]"
   ]
  },
  {
   "cell_type": "code",
   "execution_count": 434,
   "metadata": {
    "collapsed": false
   },
   "outputs": [],
   "source": [
    "S=np.zeros((m,n))\n",
    "for i in range(0,n):\n",
    "    S[i,i]=np.sqrt(vaps_AAt[i])\n",
    "    \n",
    "U=np.zeros((m,m))\n",
    "for i in range(0,m):\n",
    "    U[i]=veps_AAt[L_AAt[i]]\n",
    "    \n",
    "V=np.zeros((n,n))\n",
    "for i in range(0,n):\n",
    "    V.T[i]=veps_AtA[L_AtA[i]]"
   ]
  },
  {
   "cell_type": "code",
   "execution_count": 435,
   "metadata": {
    "collapsed": false,
    "scrolled": true
   },
   "outputs": [
    {
     "name": "stdout",
     "output_type": "stream",
     "text": [
      "[[ 2.  4.]\n",
      " [ 1.  3.]\n",
      " [ 0.  0.]\n",
      " [ 0.  0.]]\n"
     ]
    }
   ],
   "source": [
    "V[:,1]=-V[:,1]\n",
    "print U.dot(S.dot(V))"
   ]
  },
  {
   "cell_type": "markdown",
   "metadata": {},
   "source": [
    "##### 2. Use the scipy.linalg.svd function to get the SVD decomposition of A."
   ]
  },
  {
   "cell_type": "code",
   "execution_count": 436,
   "metadata": {
    "collapsed": false
   },
   "outputs": [
    {
     "name": "stdout",
     "output_type": "stream",
     "text": [
      "[[-0.81741556 -0.57604844  0.          0.        ]\n",
      " [-0.57604844  0.81741556  0.          0.        ]\n",
      " [ 0.          0.          1.          0.        ]\n",
      " [ 0.          0.          0.          1.        ]]\n",
      "[ 5.4649857   0.36596619]\n",
      "[[-0.40455358 -0.9145143 ]\n",
      " [-0.9145143   0.40455358]]\n"
     ]
    }
   ],
   "source": [
    "U,S_ar,V = svd(A)\n",
    "print U\n",
    "print S_ar\n",
    "print V"
   ]
  },
  {
   "cell_type": "markdown",
   "metadata": {},
   "source": [
    "##### 3. Write a program that uses SVD decomposition to compute"
   ]
  },
  {
   "cell_type": "code",
   "execution_count": 437,
   "metadata": {
    "collapsed": true
   },
   "outputs": [],
   "source": [
    "A=np.array([[2,1],[4,3]]).T"
   ]
  },
  {
   "cell_type": "code",
   "execution_count": 438,
   "metadata": {
    "collapsed": true
   },
   "outputs": [],
   "source": [
    "U,S_ar,V = svd(A)"
   ]
  },
  {
   "cell_type": "code",
   "execution_count": 439,
   "metadata": {
    "collapsed": false
   },
   "outputs": [],
   "source": [
    "S=np.diag(S_ar)"
   ]
  },
  {
   "cell_type": "code",
   "execution_count": 440,
   "metadata": {
    "collapsed": false
   },
   "outputs": [
    {
     "data": {
      "text/plain": [
       "array([[ 5.4649857 ,  0.        ],\n",
       "       [ 0.        ,  0.36596619]])"
      ]
     },
     "execution_count": 440,
     "metadata": {},
     "output_type": "execute_result"
    }
   ],
   "source": [
    "S"
   ]
  },
  {
   "cell_type": "markdown",
   "metadata": {},
   "source": [
    "##### (a) the rank(A)"
   ]
  },
  {
   "cell_type": "markdown",
   "metadata": {},
   "source": [
    "We know from theory that, supposing the following for the eigenvalues of a matrix A:\n",
    "\n",
    "\\begin{equation}\n",
    "\\sigma_1 \\geq \\cdots \\geq \\sigma_r > \\sigma_{r+1} = \\cdots = \\sigma_n=0\n",
    "\\end{equation}\n",
    "\n",
    "Then the rank of A is r. In our case A is full rank:"
   ]
  },
  {
   "cell_type": "code",
   "execution_count": 445,
   "metadata": {
    "collapsed": false
   },
   "outputs": [
    {
     "name": "stdout",
     "output_type": "stream",
     "text": [
      "2\n",
      "2\n"
     ]
    }
   ],
   "source": [
    "rank = len(np.diag(S[S>1e-6]))\n",
    "print rank\n",
    "print matrix_rank(A)"
   ]
  },
  {
   "cell_type": "markdown",
   "metadata": {},
   "source": [
    "##### (b) the 2-norm of A"
   ]
  },
  {
   "cell_type": "code",
   "execution_count": 446,
   "metadata": {
    "collapsed": false
   },
   "outputs": [
    {
     "name": "stdout",
     "output_type": "stream",
     "text": [
      "5.46498570422 5.46498570422\n"
     ]
    }
   ],
   "source": [
    "Norm2 = np.diag(S).max()\n",
    "print Norm2, norm(S,2)"
   ]
  },
  {
   "cell_type": "markdown",
   "metadata": {},
   "source": [
    "##### (c) the Frobenius norm of A"
   ]
  },
  {
   "cell_type": "markdown",
   "metadata": {},
   "source": [
    "For any matrix A, the sum of squares of the singular values equals the Frobernius norm."
   ]
  },
  {
   "cell_type": "code",
   "execution_count": 447,
   "metadata": {
    "collapsed": false
   },
   "outputs": [
    {
     "name": "stdout",
     "output_type": "stream",
     "text": [
      "5.47722557505 5.47722557505\n"
     ]
    }
   ],
   "source": [
    "Frob_norm = np.sqrt(sum(np.diag(S**2)))\n",
    "print Frob_norm, norm(A,'fro')"
   ]
  },
  {
   "cell_type": "markdown",
   "metadata": {},
   "source": [
    "##### (d) the condition number k2(A)"
   ]
  },
  {
   "cell_type": "markdown",
   "metadata": {},
   "source": [
    "The ratio C of the largest to smallest singular value in the singular value decomposition of a matrix"
   ]
  },
  {
   "cell_type": "code",
   "execution_count": 451,
   "metadata": {
    "collapsed": false
   },
   "outputs": [
    {
     "name": "stdout",
     "output_type": "stream",
     "text": [
      "14.9330343737 14.9330343737\n"
     ]
    }
   ],
   "source": [
    "Cond_number = S.max()/S[S!=0].min()\n",
    "print Cond_number, cond(A)"
   ]
  },
  {
   "cell_type": "markdown",
   "metadata": {},
   "source": [
    "##### (e) the pseudoinverse A+ of A"
   ]
  },
  {
   "cell_type": "code",
   "execution_count": 454,
   "metadata": {
    "collapsed": false
   },
   "outputs": [
    {
     "name": "stdout",
     "output_type": "stream",
     "text": [
      "[[ 1.5 -2. ]\n",
      " [-0.5  1. ]]\n",
      "\n",
      "[[ 1.5 -2. ]\n",
      " [-0.5  1. ]]\n"
     ]
    }
   ],
   "source": [
    "pseudo_inv=V.dot(np.diag(1./np.diag(S)).T).dot(U.T)\n",
    "print pseudo_inv\n",
    "print\n",
    "print pinv(A)"
   ]
  },
  {
   "cell_type": "markdown",
   "metadata": {},
   "source": [
    "### Use of SVD to solve Least Square problems"
   ]
  },
  {
   "cell_type": "code",
   "execution_count": 455,
   "metadata": {
    "collapsed": false
   },
   "outputs": [
    {
     "data": {
      "text/plain": [
       "array([[ 2,  3,  5,  1],\n",
       "       [ 6,  3,  1,  4],\n",
       "       [ 8,  2,  1,  9],\n",
       "       [ 5,  9, 11,  3]])"
      ]
     },
     "execution_count": 455,
     "metadata": {},
     "output_type": "execute_result"
    }
   ],
   "source": [
    "A = np.array([[2,3,5,1],[6,3,1,4],[8,2,1,9],[5,9,11,3]])\n",
    "A"
   ]
  },
  {
   "cell_type": "code",
   "execution_count": 456,
   "metadata": {
    "collapsed": false
   },
   "outputs": [
    {
     "data": {
      "text/plain": [
       "(4, 1)"
      ]
     },
     "execution_count": 456,
     "metadata": {},
     "output_type": "execute_result"
    }
   ],
   "source": [
    "b=np.array([4,5,2,3],ndmin=2).T\n",
    "b.shape"
   ]
  },
  {
   "cell_type": "code",
   "execution_count": 457,
   "metadata": {
    "collapsed": false
   },
   "outputs": [],
   "source": [
    "U,S_ar,V = svd(A)\n",
    "S=np.diag(S_ar)"
   ]
  },
  {
   "cell_type": "markdown",
   "metadata": {},
   "source": [
    "The pseudo inverse is calculated using the previus method as:"
   ]
  },
  {
   "cell_type": "code",
   "execution_count": 458,
   "metadata": {
    "collapsed": false
   },
   "outputs": [],
   "source": [
    "pseudo_inv=V.dot(np.diag(1./np.diag(S)).T).dot(U.T)"
   ]
  },
  {
   "cell_type": "markdown",
   "metadata": {},
   "source": [
    "And the solution to the least squares problem by means of using the SVD decomposition is as follows:"
   ]
  },
  {
   "cell_type": "code",
   "execution_count": 459,
   "metadata": {
    "collapsed": false
   },
   "outputs": [
    {
     "name": "stdout",
     "output_type": "stream",
     "text": [
      "[[ 1.65484989]\n",
      " [ 3.76630751]\n",
      " [ 2.10160849]\n",
      " [-2.23860076]]\n",
      "5.13338991527\n"
     ]
    }
   ],
   "source": [
    "x = pseudo_inv.dot(b)\n",
    "print x\n",
    "print norm(x,2)"
   ]
  },
  {
   "cell_type": "markdown",
   "metadata": {
    "collapsed": true
   },
   "source": [
    "### Computing the SVD decomposition"
   ]
  },
  {
   "cell_type": "code",
   "execution_count": 460,
   "metadata": {
    "collapsed": false
   },
   "outputs": [
    {
     "data": {
      "text/plain": [
       "array([[2, 3, 5, 3],\n",
       "       [3, 7, 2, 1],\n",
       "       [5, 2, 4, 9],\n",
       "       [7, 2, 2, 9]])"
      ]
     },
     "execution_count": 460,
     "metadata": {},
     "output_type": "execute_result"
    }
   ],
   "source": [
    "A = np.array([[2,3,5,3],[3,7,2,1],[5,2,4,9],[7,2,2,9]])\n",
    "A"
   ]
  },
  {
   "cell_type": "code",
   "execution_count": 461,
   "metadata": {
    "collapsed": true
   },
   "outputs": [],
   "source": [
    "def create_h(A):\n",
    "    zeros1=np.zeros((len(A.T),len(A.T)))\n",
    "    zeros2=np.zeros((len(A),len(A)))\n",
    "    H1=np.concatenate((zeros1,A.T),axis=1)\n",
    "    H2=np.concatenate((A,zeros2.T),axis=1)\n",
    "    return np.concatenate((H1,H2),axis=0)"
   ]
  },
  {
   "cell_type": "code",
   "execution_count": 462,
   "metadata": {
    "collapsed": false
   },
   "outputs": [],
   "source": [
    "H = create_h(A)"
   ]
  },
  {
   "cell_type": "markdown",
   "metadata": {},
   "source": [
    "##### 1. Write a routine to check that:"
   ]
  },
  {
   "cell_type": "markdown",
   "metadata": {},
   "source": [
    "##### (a) the eigenvalues of H are \u0006si, i = 1 ... n, where si, i = 1...n are the singular values of A"
   ]
  },
  {
   "cell_type": "code",
   "execution_count": 463,
   "metadata": {
    "collapsed": false
   },
   "outputs": [
    {
     "name": "stdout",
     "output_type": "stream",
     "text": [
      "Singular values of A:\n",
      "[ 312.89730709   47.64292149   12.92845516    0.53131627]\n",
      "\n",
      "Eigenvalues of H:\n",
      "[312.89730708691718, 47.642921489508865, 12.928455156133376, 0.53131626744104332]\n"
     ]
    }
   ],
   "source": [
    "Ua,Sa,Va = svd(A)\n",
    "Uh,Sh,Vh = svd(H)\n",
    "\n",
    "\n",
    "HHt=H.dot(H.T)\n",
    "vaps_HHt,veps_HHt=eig(HHt,right=True)\n",
    "vaps_HHt=np.real(vaps_HHt)\n",
    "\n",
    "print 'Singular values of A:'\n",
    "print Sa**2\n",
    "print \n",
    "print 'Eigenvalues of H:'\n",
    "print sorted(vaps_HHt,reverse=True)[0::2]"
   ]
  },
  {
   "cell_type": "markdown",
   "metadata": {},
   "source": [
    "It has been checked through the code above, that indeed the eigenvalues of H are the sigular values of A ( the singular values must be squared)"
   ]
  },
  {
   "cell_type": "code",
   "execution_count": 464,
   "metadata": {
    "collapsed": false
   },
   "outputs": [
    {
     "data": {
      "text/plain": [
       "array([[ 0.52,  0.73,  0.44,  0.04,  0.  ,  0.  ,  0.  ,  0.  ],\n",
       "       [ 0.31, -0.34,  0.27, -0.84,  0.  ,  0.  ,  0.  ,  0.  ],\n",
       "       [ 0.34,  0.29, -0.86, -0.26,  0.  ,  0.  ,  0.  ,  0.  ],\n",
       "       [ 0.72, -0.52, -0.03,  0.47,  0.  ,  0.  ,  0.  ,  0.  ],\n",
       "       [ 0.  ,  0.  ,  0.  ,  0.  ,  0.33,  0.34,  0.75,  0.46],\n",
       "       [ 0.  ,  0.  ,  0.  ,  0.  ,  0.29,  0.85, -0.4 , -0.18],\n",
       "       [ 0.  ,  0.  ,  0.  ,  0.  ,  0.62, -0.24,  0.26, -0.69],\n",
       "       [ 0.  ,  0.  ,  0.  ,  0.  ,  0.64, -0.33, -0.46,  0.52]])"
      ]
     },
     "execution_count": 464,
     "metadata": {},
     "output_type": "execute_result"
    }
   ],
   "source": [
    "np.matrix.round(veps_HHt,2)"
   ]
  },
  {
   "cell_type": "code",
   "execution_count": 465,
   "metadata": {
    "collapsed": false
   },
   "outputs": [
    {
     "data": {
      "text/plain": [
       "array([[ 0.52,  0.  ,  0.01, -0.04, -0.08,  0.44, -0.73,  0.01],\n",
       "       [ 0.31,  0.  , -0.19,  0.82, -0.05,  0.26,  0.34, -0.  ],\n",
       "       [ 0.34,  0.  , -0.06,  0.25,  0.15, -0.84, -0.29,  0.  ],\n",
       "       [ 0.72,  0.  ,  0.11, -0.45,  0.01, -0.03,  0.51, -0.01],\n",
       "       [-0.  , -0.33,  0.33,  0.08, -0.74, -0.13, -0.01, -0.46],\n",
       "       [ 0.  , -0.29,  0.83,  0.19,  0.4 ,  0.07,  0.  ,  0.18],\n",
       "       [ 0.  , -0.62, -0.23, -0.05, -0.26, -0.05,  0.01,  0.69],\n",
       "       [ 0.  , -0.64, -0.32, -0.07,  0.45,  0.08, -0.01, -0.52]])"
      ]
     },
     "execution_count": 465,
     "metadata": {},
     "output_type": "execute_result"
    }
   ],
   "source": [
    "np.matrix.round(Uh,2)"
   ]
  },
  {
   "cell_type": "code",
   "execution_count": 466,
   "metadata": {
    "collapsed": false
   },
   "outputs": [
    {
     "data": {
      "text/plain": [
       "array([[ 0.52,  0.04, -0.44, -0.73],\n",
       "       [ 0.31, -0.84, -0.27,  0.34],\n",
       "       [ 0.34, -0.26,  0.86, -0.29],\n",
       "       [ 0.72,  0.47,  0.03,  0.52],\n",
       "       [ 0.33, -0.34,  0.75, -0.46],\n",
       "       [ 0.29, -0.85, -0.4 ,  0.18],\n",
       "       [ 0.62,  0.24,  0.26,  0.69],\n",
       "       [ 0.64,  0.33, -0.46, -0.52]])"
      ]
     },
     "execution_count": 466,
     "metadata": {},
     "output_type": "execute_result"
    }
   ],
   "source": [
    "np.matrix.round(np.concatenate((-Va.T,-Ua),axis=0),2)"
   ]
  },
  {
   "cell_type": "markdown",
   "metadata": {},
   "source": [
    "##### Ex.2 House(x) function:"
   ]
  },
  {
   "cell_type": "code",
   "execution_count": 467,
   "metadata": {
    "collapsed": true
   },
   "outputs": [],
   "source": [
    "def house(x):\n",
    "    n=x.shape[0]\n",
    "    s=np.dot(x[1:n],x[1:n].T)\n",
    "    v=np.zeros(n)\n",
    "    v[0]=1 \n",
    "    for i in range (1,n):  \n",
    "        v[i]=x[i]\n",
    "    if(s<1.e-14):\n",
    "        bet=0\n",
    "    else:\n",
    "        mu=np.sqrt(x[0]*x[0]+s)\n",
    "        if(x[0]<=0):\n",
    "            v[0]=x[0]-mu\n",
    "        else:\n",
    "            v[0]=-s/(x[0]+mu);\n",
    "        bet=2*v[0]*v[0]/(s+v[0]*v[0])\n",
    "        v=v/v[0] \n",
    "    return v,bet"
   ]
  },
  {
   "cell_type": "markdown",
   "metadata": {},
   "source": [
    "##### Ex.3 Write functions PA(bet,v,A) and AP(bet,v,A) that perform the previous updating computations"
   ]
  },
  {
   "cell_type": "code",
   "execution_count": 468,
   "metadata": {
    "collapsed": true
   },
   "outputs": [],
   "source": [
    "def PA(bet,v,A):\n",
    "    v=v.reshape(v.shape[0],-1)\n",
    "    return A-np.dot(v,bet*np.dot(A.T,v).T)"
   ]
  },
  {
   "cell_type": "code",
   "execution_count": 469,
   "metadata": {
    "collapsed": false
   },
   "outputs": [],
   "source": [
    "def AP(bet,v,A):\n",
    "    v=v.reshape(v.shape[0],-1)\n",
    "    return A-np.dot(bet*np.dot(A,v),v.T)"
   ]
  },
  {
   "cell_type": "markdown",
   "metadata": {},
   "source": [
    "##### Ex.4 Write a function bidiag(A) that performs the bidiagonalization of A by applying Householder transformations"
   ]
  },
  {
   "cell_type": "code",
   "execution_count": 470,
   "metadata": {
    "collapsed": true
   },
   "outputs": [],
   "source": [
    "def bidiag(A):\n",
    "    m=A.shape[0]\n",
    "    n=A.shape[1]\n",
    "    for i in range(n):\n",
    "        x=A[i:,i]\n",
    "        v,bet=house(x)\n",
    "        if i==0:\n",
    "            A=PA(bet,v,A)\n",
    "        else:\n",
    "            A[i:,i:]=PA(bet,v,A[i:,i:])\n",
    "        if i!=n-1:\n",
    "            x=A[i,i+1:]\n",
    "            v,bet=house(x)\n",
    "            A[i:,i+1:]=AP(bet,v,A[i:,i+1:])\n",
    "    return A"
   ]
  },
  {
   "cell_type": "code",
   "execution_count": 471,
   "metadata": {
    "collapsed": false
   },
   "outputs": [
    {
     "name": "stdout",
     "output_type": "stream",
     "text": [
      "[[  9.33  14.7   -0.    -0.     0.     0.     0.     0.  ]\n",
      " [  0.     3.65   2.96   0.     0.     0.     0.     0.  ]\n",
      " [  0.     0.     2.09  -4.93  -0.    -0.    -0.    -0.  ]\n",
      " [  0.     0.     0.     4.49  -0.    -0.    -0.    -0.  ]\n",
      " [ -0.     0.    -0.     0.     6.86  13.7    0.     0.  ]\n",
      " [ -0.     0.    -0.    -0.    -0.     9.31   4.11   0.  ]\n",
      " [ -0.     0.     0.    -0.     0.     0.     4.83  -3.37]\n",
      " [ -0.     0.    -0.     0.    -0.     0.    -0.    -1.04]]\n"
     ]
    }
   ],
   "source": [
    "print np.matrix.round(bidiag(H),2)"
   ]
  },
  {
   "cell_type": "markdown",
   "metadata": {
    "collapsed": false
   },
   "source": [
    "##### Ex.5 Write a program that giving a matrix A, computes the matrix H and reduce it to bidiagonal B. Write the output to a \f",
    "le (just the dimension m+n and the two arrays containing the bidiagonal of H)."
   ]
  },
  {
   "cell_type": "code",
   "execution_count": 472,
   "metadata": {
    "collapsed": false
   },
   "outputs": [],
   "source": [
    "A = np.array([[2,3,5,1,5],[6,3,1,4,3],[8,2,1,9,1],[5,9,11,3,9]])"
   ]
  },
  {
   "cell_type": "markdown",
   "metadata": {},
   "source": [
    "Functions to create H and bidiagonalize it encapsulated in one:"
   ]
  },
  {
   "cell_type": "code",
   "execution_count": 473,
   "metadata": {
    "collapsed": false
   },
   "outputs": [],
   "source": [
    "def bidiagonalize(A):\n",
    "    H=create_h(A)\n",
    "    return H,bidiag(H)"
   ]
  },
  {
   "cell_type": "code",
   "execution_count": 474,
   "metadata": {
    "collapsed": false
   },
   "outputs": [
    {
     "name": "stdout",
     "output_type": "stream",
     "text": [
      "[[ 11.4  15.9   0.    0.    0.    0.    0.    0.    0. ]\n",
      " [  0.    9.9  10.6   0.   -0.    0.    0.    0.    0. ]\n",
      " [  0.    0.    2.5   1.7   0.    0.    0.    0.    0. ]\n",
      " [  0.    0.    0.    0.    1.2  -0.   -0.   -0.   -0. ]\n",
      " [  0.    0.    0.    0.    0.   10.8   0.    0.    0. ]\n",
      " [ -0.    0.   -0.   -0.    0.   17.9   6.4   0.    0. ]\n",
      " [ -0.   -0.   -0.    0.    0.    0.    9.9   4.8   0. ]\n",
      " [ -0.   -0.    0.   -0.    0.    0.    0.    1.2   1.2]\n",
      " [ -0.    0.    0.    0.    0.    0.    0.    0.    1.1]]\n"
     ]
    }
   ],
   "source": [
    "H,B = bidiagonalize(A)\n",
    "print np.matrix.round(B,1)"
   ]
  },
  {
   "cell_type": "code",
   "execution_count": 475,
   "metadata": {
    "collapsed": false
   },
   "outputs": [
    {
     "data": {
      "text/plain": [
       "array([[  0.,   0.,   0.,   0.,   0.,   2.,   6.,   8.,   5.],\n",
       "       [  0.,   0.,   0.,   0.,   0.,   3.,   3.,   2.,   9.],\n",
       "       [  0.,   0.,   0.,   0.,   0.,   5.,   1.,   1.,  11.],\n",
       "       [  0.,   0.,   0.,   0.,   0.,   1.,   4.,   9.,   3.],\n",
       "       [  0.,   0.,   0.,   0.,   0.,   5.,   3.,   1.,   9.],\n",
       "       [  2.,   3.,   5.,   1.,   5.,   0.,   0.,   0.,   0.],\n",
       "       [  6.,   3.,   1.,   4.,   3.,   0.,   0.,   0.,   0.],\n",
       "       [  8.,   2.,   1.,   9.,   1.,   0.,   0.,   0.,   0.],\n",
       "       [  5.,   9.,  11.,   3.,   9.,   0.,   0.,   0.,   0.]])"
      ]
     },
     "execution_count": 475,
     "metadata": {},
     "output_type": "execute_result"
    }
   ],
   "source": [
    "H"
   ]
  },
  {
   "cell_type": "markdown",
   "metadata": {},
   "source": [
    "##### Ex.6 Write a program that implements the qds algorithm"
   ]
  },
  {
   "cell_type": "code",
   "execution_count": 476,
   "metadata": {
    "collapsed": false
   },
   "outputs": [],
   "source": [
    "q_aux=np.zeros(len(H))\n",
    "e_aux=np.zeros(len(H))\n",
    "a=np.diagonal(B,offset=0)\n",
    "b=np.diagonal(B,offset=1)\n",
    "q=a**2\n",
    "e=b**2"
   ]
  },
  {
   "cell_type": "code",
   "execution_count": 477,
   "metadata": {
    "collapsed": false
   },
   "outputs": [],
   "source": [
    "def qds(H,q_aux,e_aux,q,e):\n",
    "    while norm(e,np.inf)>1.e-14:\n",
    "        for j in range(len(A.T)-1):\n",
    "            q_aux[j] = q[j] + e[j] - e_aux[j-1]\n",
    "            e_aux[j] = e[j] * (q[j+1]/q_aux[j])\n",
    "        q_aux[len(A.T)] = q[len(A.T)] - e_aux[len(A.T)-1]\n",
    "        q=q_aux\n",
    "        e=e_aux\n",
    "    return q_aux"
   ]
  },
  {
   "cell_type": "markdown",
   "metadata": {},
   "source": [
    "Obtained values of the square of the singular values of B with the dqs algorithm:"
   ]
  },
  {
   "cell_type": "code",
   "execution_count": 478,
   "metadata": {
    "collapsed": false
   },
   "outputs": [
    {
     "data": {
      "text/plain": [
       "array([ 476.5027563 ,  120.76523989,    4.17980061,    1.55220319,    0.        ])"
      ]
     },
     "execution_count": 478,
     "metadata": {},
     "output_type": "execute_result"
    }
   ],
   "source": [
    "q_aux = qds(H,q_aux,e_aux,q,e)\n",
    "q_aux[0:len(A.T)]"
   ]
  },
  {
   "cell_type": "markdown",
   "metadata": {},
   "source": [
    "As it can be seen, the values indeed give a good approximation for the tolerance mentioned in the staement, of the squared of the singular values of B, which are computed directly from B bellow:"
   ]
  },
  {
   "cell_type": "code",
   "execution_count": 479,
   "metadata": {
    "collapsed": false
   },
   "outputs": [
    {
     "name": "stdout",
     "output_type": "stream",
     "text": [
      "[ 477.  121.    4.    2.    0.]\n"
     ]
    }
   ],
   "source": [
    "Ua,Sa,Va = svd(H)\n",
    "print np.matrix.round(Sa**2)[::2]"
   ]
  }
 ],
 "metadata": {
  "anaconda-cloud": {},
  "kernelspec": {
   "display_name": "Python [default]",
   "language": "python",
   "name": "python2"
  },
  "language_info": {
   "codemirror_mode": {
    "name": "ipython",
    "version": 2
   },
   "file_extension": ".py",
   "mimetype": "text/x-python",
   "name": "python",
   "nbconvert_exporter": "python",
   "pygments_lexer": "ipython2",
   "version": "2.7.12"
  }
 },
 "nbformat": 4,
 "nbformat_minor": 1
}
