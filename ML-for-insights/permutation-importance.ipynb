{
  "cells": [
    {
      "metadata": {
        "_uuid": "d4049c43bb1d1a149bb7a59d42b70a558fbdd564"
      },
      "cell_type": "markdown",
      "source": "Welcome to the Machine Learning for Insights challenge!\n\nThis is one of my favorite topics. I've found it incredibly valuable for many real-world project (here's a [list of use cases](https://www.kaggle.com/dansbecker/use-cases-for-model-insights) where I've seen insights used)... and I think it's one of the main skills distinguishing average data scientists from the very best data scientists.\n\nSo let's get to the good stuff.\n\n\n# Permutation Importance\n\nOne of the most basic questions we might ask of a model is *What features have the biggest impact on predictions?*\n\nThis concept is called *feature importance*. I've seen feature importance used effectively many times for every purpose in the list of use cases above.\n\nThere are multiple ways to measure feature importance.  Some approaches answer subtly different versions of the question above. Other approaches have documented shortcomings.\n\nIn this lesson, we'll focus on *permutation importance*.  Compared to most other approaches, permutation importance is:\n\n- Fast to calculate\n- Widely used and understood\n- Consistent with properties we would want a feature importance measure to have\n\n# How it Works\n\nPermutation importance uses models differently than anything you've seen so far, and many people find it confusing at first. So we'll start with an example to make it more concrete.  \n\nConsider data with the following format:\n\n![Data](https://i.imgur.com/wjMAysV.png)\n\nWe want to predict a person's height when they become 20 years old, using data that is available at age 10.\n\nOur data includes useful features (*height at age 10*), features with little predictive power (*socks owned*), as well as some other features we won't focus on in this explanation.\n\n**Permutation importance is calculated after a model has been fitted.** So we won't change the model or change what predictions we'd get for a given value of height, sock-count, etc.\n\nInstead we will ask the following question:  If I randomly shuffle a single column of the validation data, leaving the target and all other columns in place, how would that affect the accuracy of predictions in that now-shuffled data?\n\n![Shuffle](https://i.imgur.com/h17tMUU.png)\n\nRandomly re-ordering a single column should cause less accurate predictions, since the resulting data no longer corresponds to anything observed in the real world.  Model accuracy especially suffers if we shuffle a column that the model relied on heavily for predictions.  In this case, shuffling `height at age 10` would cause terrible predictions. If we shuffled `socks owned` instead, the resulting predictions wouldn't suffer nearly as much.\n\nWith this insight, the process is as follows:\n\n1. Get a trained model\n2. Shuffle the values in a single column, make predictions using the resulting dataset.  Use these predictions and the true target values to calculate how much the loss function suffered from shuffling. That performance deterioration measures the importance of the variable you just shuffled.\n3. Return the data to the original order (undoing the shuffle from step 2.) Now repeat step 2 with the next column in the dataset, until you have calculated the importance of each column.\n\n# Code Example\n\nOur example will use a model that predicts whether a soccer/football team will have the \"Man of the Game\" winner based on the team's statistics.  The \"Man of the Game\" award is given to the best player in the game.  Model-building isn't our current focus, so the cell below loads the data and builds a rudimentary model."
    },
    {
      "metadata": {
        "_uuid": "df97add01634e3b0929553e157f18bc0c22d4a5f",
        "trusted": false
      },
      "cell_type": "code",
      "source": "import numpy as np\nimport pandas as pd\nfrom sklearn.model_selection import train_test_split\nfrom sklearn.ensemble import RandomForestClassifier\n\ndata = pd.read_csv('../input/fifa-2018-match-statistics/FIFA 2018 Statistics.csv')\ny = (data['Man of the Match'] == \"Yes\")  # Convert from string \"Yes\"/\"No\" to binary\nfeature_names = [i for i in data.columns if data[i].dtype in [np.int64]]\nX = data[feature_names]\ntrain_X, val_X, train_y, val_y = train_test_split(X, y, random_state=1)\nmy_model = RandomForestClassifier(random_state=0).fit(train_X, train_y)\n",
      "execution_count": null,
      "outputs": []
    },
    {
      "metadata": {
        "_uuid": "6515d142ea9fa20cdd639d3d9e730efa035d0629"
      },
      "cell_type": "markdown",
      "source": "Here is how to calculate and show importances with the [eli5](https://eli5.readthedocs.io/en/latest/) library:"
    },
    {
      "metadata": {
        "_uuid": "59d24e2ebbf9bfcb2489f7982a9eb1dfe0555e65",
        "trusted": false
      },
      "cell_type": "code",
      "source": "import eli5\nfrom eli5.sklearn import PermutationImportance\n\nperm = PermutationImportance(my_model, random_state=1).fit(val_X, val_y)\neli5.show_weights(perm, feature_names = val_X.columns.tolist())",
      "execution_count": null,
      "outputs": []
    },
    {
      "metadata": {
        "_uuid": "f1df50cf34e55e093545998cc58581517163cab9"
      },
      "cell_type": "markdown",
      "source": "# Interpreting Permutation Importances\n\nThe values towards the top are the most important features, and those towards the bottom matter least.\n\nThe first number in each row shows how much model performance decreased with a random shuffling (in this case, using \"accuracy\" as the performance metric). \n\nLike most things in data science, there is some randomness to the exact performance change from a shuffling a column.  We measure the amount of randomness in our permutation importance calculation by repeating the process with multiple shuffles.  The number after the **±** measures how performance varied from one-reshuffling to the next.\n\nYou'll occasionally see negative values for permutation importances. In those cases, the predictions on the shuffled (or noisy) data happened to be more accurate than the real data. This happens when the feature didn't matter (should have had an importance close to 0), but random chance caused the predictions on shuffled data to be more accurate. This is more common with small datasets, like the one in this example, because there is more room for luck/chance.\n\nIn our example, the most important feature was **Goals scored**. That seems sensible. Soccer fans may have some intuition about whether the orderings of other variables are surprising or not.\n\n# Your Turn\n\n**[Get started here](https://www.kaggle.com/kernels/fork/1637562)** to flex your new permutation importance knowledge."
    }
  ],
  "metadata": {
    "kernelspec": {
      "display_name": "Python 3",
      "language": "python",
      "name": "python3"
    },
    "language_info": {
      "name": "python",
      "version": "3.6.6",
      "mimetype": "text/x-python",
      "codemirror_mode": {
        "name": "ipython",
        "version": 3
      },
      "pygments_lexer": "ipython3",
      "nbconvert_exporter": "python",
      "file_extension": ".py"
    }
  },
  "nbformat": 4,
  "nbformat_minor": 1
}